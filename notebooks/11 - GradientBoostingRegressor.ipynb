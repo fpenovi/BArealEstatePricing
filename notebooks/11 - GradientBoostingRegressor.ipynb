{
 "cells": [
  {
   "cell_type": "code",
   "execution_count": 25,
   "metadata": {},
   "outputs": [],
   "source": [
    "import time\n",
    "import pandas as pd\n",
    "import numpy as np\n",
    "from matplotlib import pyplot as plt\n",
    "from sklearn.ensemble import GradientBoostingRegressor\n",
    "from sklearn.preprocessing import StandardScaler\n",
    "import seaborn as sns\n",
    "%matplotlib inline"
   ]
  },
  {
   "cell_type": "code",
   "execution_count": 26,
   "metadata": {},
   "outputs": [],
   "source": [
    "start = time.time()\n",
    "\n",
    "dfTrain = pd.read_csv('../data/TRAIN_TEST_corrected3/train_corrected3.csv')\n",
    "dfTest = pd.read_csv('../data/TRAIN_TEST_corrected3/test_corrected3.csv')\n",
    "\n",
    "train = dfTrain.drop(['id', 'price_usd', 'day_created', 'year_created', 'month_created'], axis=1)\n",
    "target = dfTrain.price_usd\n",
    "scaler = StandardScaler()\n",
    "train = pd.DataFrame(scaler.fit_transform(train), columns=train.columns)\n",
    "\n",
    "test = dfTest.drop(['id', 'day_created', 'year_created', 'month_created'], axis=1)\n",
    "test = pd.DataFrame(scaler.transform(test), columns=test.columns)\n",
    "test_ids = dfTest.id"
   ]
  },
  {
   "cell_type": "code",
   "execution_count": 27,
   "metadata": {},
   "outputs": [
    {
     "data": {
      "text/html": [
       "<div>\n",
       "<style scoped>\n",
       "    .dataframe tbody tr th:only-of-type {\n",
       "        vertical-align: middle;\n",
       "    }\n",
       "\n",
       "    .dataframe tbody tr th {\n",
       "        vertical-align: top;\n",
       "    }\n",
       "\n",
       "    .dataframe thead th {\n",
       "        text-align: right;\n",
       "    }\n",
       "</style>\n",
       "<table border=\"1\" class=\"dataframe\">\n",
       "  <thead>\n",
       "    <tr style=\"text-align: right;\">\n",
       "      <th></th>\n",
       "      <th>distance_to_obelisco_mtrs</th>\n",
       "      <th>lat</th>\n",
       "      <th>lon</th>\n",
       "      <th>surface_total_in_m2</th>\n",
       "      <th>rooms</th>\n",
       "      <th>PH</th>\n",
       "      <th>apartment</th>\n",
       "      <th>house</th>\n",
       "      <th>store</th>\n",
       "      <th>entorno_score</th>\n",
       "    </tr>\n",
       "  </thead>\n",
       "  <tbody>\n",
       "    <tr>\n",
       "      <th>0</th>\n",
       "      <td>-0.254778</td>\n",
       "      <td>-0.257360</td>\n",
       "      <td>0.179151</td>\n",
       "      <td>-0.355479</td>\n",
       "      <td>0.566074</td>\n",
       "      <td>-0.253632</td>\n",
       "      <td>0.851851</td>\n",
       "      <td>-0.725942</td>\n",
       "      <td>-0.123193</td>\n",
       "      <td>-0.638058</td>\n",
       "    </tr>\n",
       "    <tr>\n",
       "      <th>1</th>\n",
       "      <td>-0.260130</td>\n",
       "      <td>-0.257184</td>\n",
       "      <td>0.189939</td>\n",
       "      <td>-0.397511</td>\n",
       "      <td>-0.346374</td>\n",
       "      <td>-0.253632</td>\n",
       "      <td>0.851851</td>\n",
       "      <td>-0.725942</td>\n",
       "      <td>-0.123193</td>\n",
       "      <td>1.418856</td>\n",
       "    </tr>\n",
       "    <tr>\n",
       "      <th>2</th>\n",
       "      <td>-0.238270</td>\n",
       "      <td>-0.257482</td>\n",
       "      <td>0.145996</td>\n",
       "      <td>-0.149989</td>\n",
       "      <td>-0.346374</td>\n",
       "      <td>-0.253632</td>\n",
       "      <td>-1.173914</td>\n",
       "      <td>1.377521</td>\n",
       "      <td>-0.123193</td>\n",
       "      <td>-0.638058</td>\n",
       "    </tr>\n",
       "  </tbody>\n",
       "</table>\n",
       "</div>"
      ],
      "text/plain": [
       "   distance_to_obelisco_mtrs       lat       lon  surface_total_in_m2  \\\n",
       "0                  -0.254778 -0.257360  0.179151            -0.355479   \n",
       "1                  -0.260130 -0.257184  0.189939            -0.397511   \n",
       "2                  -0.238270 -0.257482  0.145996            -0.149989   \n",
       "\n",
       "      rooms        PH  apartment     house     store  entorno_score  \n",
       "0  0.566074 -0.253632   0.851851 -0.725942 -0.123193      -0.638058  \n",
       "1 -0.346374 -0.253632   0.851851 -0.725942 -0.123193       1.418856  \n",
       "2 -0.346374 -0.253632  -1.173914  1.377521 -0.123193      -0.638058  "
      ]
     },
     "execution_count": 27,
     "metadata": {},
     "output_type": "execute_result"
    }
   ],
   "source": [
    "train.head(3)"
   ]
  },
  {
   "cell_type": "code",
   "execution_count": 28,
   "metadata": {},
   "outputs": [
    {
     "data": {
      "text/html": [
       "<div>\n",
       "<style scoped>\n",
       "    .dataframe tbody tr th:only-of-type {\n",
       "        vertical-align: middle;\n",
       "    }\n",
       "\n",
       "    .dataframe tbody tr th {\n",
       "        vertical-align: top;\n",
       "    }\n",
       "\n",
       "    .dataframe thead th {\n",
       "        text-align: right;\n",
       "    }\n",
       "</style>\n",
       "<table border=\"1\" class=\"dataframe\">\n",
       "  <thead>\n",
       "    <tr style=\"text-align: right;\">\n",
       "      <th></th>\n",
       "      <th>distance_to_obelisco_mtrs</th>\n",
       "      <th>lat</th>\n",
       "      <th>lon</th>\n",
       "      <th>surface_total_in_m2</th>\n",
       "      <th>rooms</th>\n",
       "      <th>PH</th>\n",
       "      <th>apartment</th>\n",
       "      <th>house</th>\n",
       "      <th>store</th>\n",
       "      <th>entorno_score</th>\n",
       "    </tr>\n",
       "  </thead>\n",
       "  <tbody>\n",
       "    <tr>\n",
       "      <th>0</th>\n",
       "      <td>-0.261765</td>\n",
       "      <td>-0.258032</td>\n",
       "      <td>0.196455</td>\n",
       "      <td>-0.500257</td>\n",
       "      <td>0.566074</td>\n",
       "      <td>-0.253632</td>\n",
       "      <td>0.851851</td>\n",
       "      <td>-0.725942</td>\n",
       "      <td>-0.123193</td>\n",
       "      <td>-0.255570</td>\n",
       "    </tr>\n",
       "    <tr>\n",
       "      <th>1</th>\n",
       "      <td>4.825094</td>\n",
       "      <td>4.239091</td>\n",
       "      <td>6.344510</td>\n",
       "      <td>-0.500257</td>\n",
       "      <td>-0.346374</td>\n",
       "      <td>-0.253632</td>\n",
       "      <td>0.851851</td>\n",
       "      <td>-0.725942</td>\n",
       "      <td>-0.123193</td>\n",
       "      <td>-0.638058</td>\n",
       "    </tr>\n",
       "    <tr>\n",
       "      <th>2</th>\n",
       "      <td>-0.261095</td>\n",
       "      <td>-0.256695</td>\n",
       "      <td>0.192219</td>\n",
       "      <td>-0.376495</td>\n",
       "      <td>0.566074</td>\n",
       "      <td>-0.253632</td>\n",
       "      <td>0.851851</td>\n",
       "      <td>-0.725942</td>\n",
       "      <td>-0.123193</td>\n",
       "      <td>1.519325</td>\n",
       "    </tr>\n",
       "  </tbody>\n",
       "</table>\n",
       "</div>"
      ],
      "text/plain": [
       "   distance_to_obelisco_mtrs       lat       lon  surface_total_in_m2  \\\n",
       "0                  -0.261765 -0.258032  0.196455            -0.500257   \n",
       "1                   4.825094  4.239091  6.344510            -0.500257   \n",
       "2                  -0.261095 -0.256695  0.192219            -0.376495   \n",
       "\n",
       "      rooms        PH  apartment     house     store  entorno_score  \n",
       "0  0.566074 -0.253632   0.851851 -0.725942 -0.123193      -0.255570  \n",
       "1 -0.346374 -0.253632   0.851851 -0.725942 -0.123193      -0.638058  \n",
       "2  0.566074 -0.253632   0.851851 -0.725942 -0.123193       1.519325  "
      ]
     },
     "execution_count": 28,
     "metadata": {},
     "output_type": "execute_result"
    }
   ],
   "source": [
    "test.head(3)"
   ]
  },
  {
   "cell_type": "code",
   "execution_count": 29,
   "metadata": {},
   "outputs": [],
   "source": [
    "params = {'n_estimators': 400, 'max_depth': 4, 'min_samples_split': 2,\n",
    "          'learning_rate': 0.01, 'loss': 'ls', 'random_state':13}\n",
    "\n",
    "GBR = GradientBoostingRegressor(**params)"
   ]
  },
  {
   "cell_type": "code",
   "execution_count": 30,
   "metadata": {},
   "outputs": [
    {
     "data": {
      "text/plain": [
       "GradientBoostingRegressor(alpha=0.9, criterion='friedman_mse', init=None,\n",
       "             learning_rate=0.01, loss='ls', max_depth=4, max_features=None,\n",
       "             max_leaf_nodes=None, min_impurity_decrease=0.0,\n",
       "             min_impurity_split=None, min_samples_leaf=1,\n",
       "             min_samples_split=2, min_weight_fraction_leaf=0.0,\n",
       "             n_estimators=400, presort='auto', random_state=13,\n",
       "             subsample=1.0, verbose=0, warm_start=False)"
      ]
     },
     "execution_count": 30,
     "metadata": {},
     "output_type": "execute_result"
    }
   ],
   "source": [
    "GBR.fit(train, target)"
   ]
  },
  {
   "cell_type": "code",
   "execution_count": 31,
   "metadata": {},
   "outputs": [],
   "source": [
    "predictions = GBR.predict(test)"
   ]
  },
  {
   "cell_type": "code",
   "execution_count": 32,
   "metadata": {},
   "outputs": [],
   "source": [
    "result = pd.DataFrame({'id':test_ids, 'price_usd':predictions})"
   ]
  },
  {
   "cell_type": "code",
   "execution_count": 33,
   "metadata": {},
   "outputs": [
    {
     "data": {
      "text/html": [
       "<div>\n",
       "<style scoped>\n",
       "    .dataframe tbody tr th:only-of-type {\n",
       "        vertical-align: middle;\n",
       "    }\n",
       "\n",
       "    .dataframe tbody tr th {\n",
       "        vertical-align: top;\n",
       "    }\n",
       "\n",
       "    .dataframe thead th {\n",
       "        text-align: right;\n",
       "    }\n",
       "</style>\n",
       "<table border=\"1\" class=\"dataframe\">\n",
       "  <thead>\n",
       "    <tr style=\"text-align: right;\">\n",
       "      <th></th>\n",
       "      <th>id</th>\n",
       "      <th>price_usd</th>\n",
       "    </tr>\n",
       "  </thead>\n",
       "  <tbody>\n",
       "    <tr>\n",
       "      <th>0</th>\n",
       "      <td>3632</td>\n",
       "      <td>215075.622410</td>\n",
       "    </tr>\n",
       "    <tr>\n",
       "      <th>1</th>\n",
       "      <td>3633</td>\n",
       "      <td>143932.209691</td>\n",
       "    </tr>\n",
       "    <tr>\n",
       "      <th>2</th>\n",
       "      <td>2263404</td>\n",
       "      <td>142240.909462</td>\n",
       "    </tr>\n",
       "    <tr>\n",
       "      <th>3</th>\n",
       "      <td>2263405</td>\n",
       "      <td>114734.341752</td>\n",
       "    </tr>\n",
       "    <tr>\n",
       "      <th>4</th>\n",
       "      <td>2263406</td>\n",
       "      <td>115111.517819</td>\n",
       "    </tr>\n",
       "  </tbody>\n",
       "</table>\n",
       "</div>"
      ],
      "text/plain": [
       "        id      price_usd\n",
       "0     3632  215075.622410\n",
       "1     3633  143932.209691\n",
       "2  2263404  142240.909462\n",
       "3  2263405  114734.341752\n",
       "4  2263406  115111.517819"
      ]
     },
     "execution_count": 33,
     "metadata": {},
     "output_type": "execute_result"
    }
   ],
   "source": [
    "result.head()"
   ]
  },
  {
   "cell_type": "code",
   "execution_count": 34,
   "metadata": {
    "scrolled": true
   },
   "outputs": [],
   "source": [
    "feature_importance = GBR.feature_importances_\n",
    "feature_importance = 100.0 * (feature_importance / feature_importance.max())\n",
    "result = pd.DataFrame({'features':train.columns, \n",
    "                       'importance':feature_importance}).sort_values(by='importance', ascending=False)"
   ]
  },
  {
   "cell_type": "code",
   "execution_count": 35,
   "metadata": {},
   "outputs": [
    {
     "data": {
      "image/png": "[encoded data removed]",
      "text/plain": [
       "<matplotlib.figure.Figure at 0x7f89c1a07dd0>"
      ]
     },
     "metadata": {},
     "output_type": "display_data"
    }
   ],
   "source": [
    "ax = sns.barplot(data=result, x='features', y='importance', hue='features');\n",
    "ax.set_title(\"Gradient Boosting: Feature Importance\", fontsize=18)\n",
    "ax.legend(fontsize=14)\n",
    "leg = ax.get_legend()\n",
    "\n",
    "ax = sns.barplot(data=result, x='features', y='importance');\n",
    "ax.legend = leg\n",
    "ax.tick_params(axis='x', which='both', labelbottom='off')\n",
    "ax.get_figure().set_figwidth(12)\n",
    "ax.get_figure().set_figheight(10)\n",
    "ax.set_title(\"Gradient Boosting: Feature Importance\", fontsize=18)\n",
    "ax.set_xlabel(\"\\nFeatures\", fontsize=14);\n",
    "ax.set_ylabel(\"Importance of Features\\n [0 - 100]\", fontsize=14);"
   ]
  },
  {
   "cell_type": "code",
   "execution_count": 36,
   "metadata": {},
   "outputs": [
    {
     "name": "stdout",
     "output_type": "stream",
     "text": [
      "Finalizó!\n",
      "Tiempo: 00:09:39\n"
     ]
    }
   ],
   "source": [
    "end = time.time()\n",
    "m, s = divmod(end - start, 60)\n",
    "h, m = divmod(m, 60)\n",
    "print \"Finalizó!\"\n",
    "print 'Tiempo:', \"%02d:%02d:%02d\" % (h, m, s)"
   ]
  },
  {
   "cell_type": "code",
   "execution_count": null,
   "metadata": {},
   "outputs": [],
   "source": []
  }
 ],
 "metadata": {
  "kernelspec": {
   "display_name": "Python 2",
   "language": "python",
   "name": "python2"
  },
  "language_info": {
   "codemirror_mode": {
    "name": "ipython",
    "version": 2
   },
   "file_extension": ".py",
   "mimetype": "text/x-python",
   "name": "python",
   "nbconvert_exporter": "python",
   "pygments_lexer": "ipython2",
   "version": "2.7.12"
  }
 },
 "nbformat": 4,
 "nbformat_minor": 2
}
