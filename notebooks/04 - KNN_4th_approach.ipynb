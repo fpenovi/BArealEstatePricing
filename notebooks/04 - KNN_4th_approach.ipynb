{
 "cells": [
  {
   "cell_type": "code",
   "execution_count": 12,
   "metadata": {},
   "outputs": [],
   "source": [
    "import pandas as pd\n",
    "import numpy as np\n",
    "from sklearn import preprocessing\n",
    "from sklearn.neighbors import KNeighborsRegressor\n",
    "\n",
    "dfTrain = pd.read_csv('../data/TRAIN_TEST_corrected2/train_corrected2.csv')\n",
    "dfTest = pd.read_csv('../data/TRAIN_TEST_corrected2/test_corrected2.csv')"
   ]
  },
  {
   "cell_type": "code",
   "execution_count": 13,
   "metadata": {},
   "outputs": [
    {
     "name": "stdout",
     "output_type": "stream",
     "text": [
      "<class 'pandas.core.frame.DataFrame'>\n",
      "RangeIndex: 1004777 entries, 0 to 1004776\n",
      "Data columns (total 14 columns):\n",
      "id                           1004777 non-null object\n",
      "year_created                 1004777 non-null float64\n",
      "month_created                1004777 non-null float64\n",
      "day_created                  1004777 non-null float64\n",
      "distance_to_obelisco_mtrs    1004777 non-null float64\n",
      "lat                          1004777 non-null float64\n",
      "lon                          1004777 non-null float64\n",
      "surface_total_in_m2          1004777 non-null float64\n",
      "rooms                        1004777 non-null float64\n",
      "price_usd                    1004777 non-null float64\n",
      "PH                           1004777 non-null float64\n",
      "apartment                    1004777 non-null float64\n",
      "house                        1004777 non-null float64\n",
      "store                        1004777 non-null float64\n",
      "dtypes: float64(13), object(1)\n",
      "memory usage: 107.3+ MB\n"
     ]
    }
   ],
   "source": [
    "dfTrain.info()"
   ]
  },
  {
   "cell_type": "code",
   "execution_count": 14,
   "metadata": {},
   "outputs": [
    {
     "name": "stdout",
     "output_type": "stream",
     "text": [
      "<class 'pandas.core.frame.DataFrame'>\n",
      "RangeIndex: 14166 entries, 0 to 14165\n",
      "Data columns (total 13 columns):\n",
      "id                           14166 non-null int64\n",
      "year_created                 14166 non-null float64\n",
      "month_created                14166 non-null float64\n",
      "day_created                  14166 non-null float64\n",
      "distance_to_obelisco_mtrs    14166 non-null float64\n",
      "lat                          14166 non-null float64\n",
      "lon                          14166 non-null float64\n",
      "surface_total_in_m2          14166 non-null float64\n",
      "rooms                        14166 non-null float64\n",
      "PH                           14166 non-null float64\n",
      "apartment                    14166 non-null float64\n",
      "house                        14166 non-null float64\n",
      "store                        14166 non-null float64\n",
      "dtypes: float64(12), int64(1)\n",
      "memory usage: 1.4 MB\n"
     ]
    }
   ],
   "source": [
    "dfTest.info()"
   ]
  },
  {
   "cell_type": "code",
   "execution_count": 15,
   "metadata": {},
   "outputs": [],
   "source": [
    "target = dfTrain.price_usd\n",
    "testIds = dfTest.id\n",
    "\n",
    "norm = preprocessing.Normalizer()\n",
    "train = norm.fit_transform(dfTrain.drop(['id', 'price_usd'], axis=True))\n",
    "\n",
    "testVals = norm.transform(dfTest.drop(['id'], axis=True))"
   ]
  },
  {
   "cell_type": "code",
   "execution_count": 16,
   "metadata": {},
   "outputs": [
    {
     "data": {
      "text/html": [
       "<div>\n",
       "<style scoped>\n",
       "    .dataframe tbody tr th:only-of-type {\n",
       "        vertical-align: middle;\n",
       "    }\n",
       "\n",
       "    .dataframe tbody tr th {\n",
       "        vertical-align: top;\n",
       "    }\n",
       "\n",
       "    .dataframe thead th {\n",
       "        text-align: right;\n",
       "    }\n",
       "</style>\n",
       "<table border=\"1\" class=\"dataframe\">\n",
       "  <thead>\n",
       "    <tr style=\"text-align: right;\">\n",
       "      <th></th>\n",
       "      <th>year_created</th>\n",
       "      <th>month_created</th>\n",
       "      <th>day_created</th>\n",
       "      <th>distance_to_obelisco_mtrs</th>\n",
       "      <th>lat</th>\n",
       "      <th>lon</th>\n",
       "      <th>surface_total_in_m2</th>\n",
       "      <th>rooms</th>\n",
       "      <th>PH</th>\n",
       "      <th>apartment</th>\n",
       "      <th>house</th>\n",
       "      <th>store</th>\n",
       "    </tr>\n",
       "  </thead>\n",
       "  <tbody>\n",
       "    <tr>\n",
       "      <th>0</th>\n",
       "      <td>0.118544</td>\n",
       "      <td>0.000471</td>\n",
       "      <td>0.001649</td>\n",
       "      <td>0.992933</td>\n",
       "      <td>-0.002038</td>\n",
       "      <td>-0.003449</td>\n",
       "      <td>0.003651</td>\n",
       "      <td>0.000177</td>\n",
       "      <td>0.0</td>\n",
       "      <td>0.000059</td>\n",
       "      <td>0.000000</td>\n",
       "      <td>0.0</td>\n",
       "    </tr>\n",
       "    <tr>\n",
       "      <th>1</th>\n",
       "      <td>0.351536</td>\n",
       "      <td>0.001397</td>\n",
       "      <td>0.004890</td>\n",
       "      <td>0.936054</td>\n",
       "      <td>-0.006042</td>\n",
       "      <td>-0.010205</td>\n",
       "      <td>0.007684</td>\n",
       "      <td>0.000349</td>\n",
       "      <td>0.0</td>\n",
       "      <td>0.000175</td>\n",
       "      <td>0.000000</td>\n",
       "      <td>0.0</td>\n",
       "    </tr>\n",
       "    <tr>\n",
       "      <th>2</th>\n",
       "      <td>0.038434</td>\n",
       "      <td>0.000153</td>\n",
       "      <td>0.000535</td>\n",
       "      <td>0.999256</td>\n",
       "      <td>-0.000661</td>\n",
       "      <td>-0.001126</td>\n",
       "      <td>0.002864</td>\n",
       "      <td>0.000038</td>\n",
       "      <td>0.0</td>\n",
       "      <td>0.000000</td>\n",
       "      <td>0.000019</td>\n",
       "      <td>0.0</td>\n",
       "    </tr>\n",
       "  </tbody>\n",
       "</table>\n",
       "</div>"
      ],
      "text/plain": [
       "   year_created  month_created  day_created  distance_to_obelisco_mtrs  \\\n",
       "0      0.118544       0.000471     0.001649                   0.992933   \n",
       "1      0.351536       0.001397     0.004890                   0.936054   \n",
       "2      0.038434       0.000153     0.000535                   0.999256   \n",
       "\n",
       "        lat       lon  surface_total_in_m2     rooms   PH  apartment  \\\n",
       "0 -0.002038 -0.003449             0.003651  0.000177  0.0   0.000059   \n",
       "1 -0.006042 -0.010205             0.007684  0.000349  0.0   0.000175   \n",
       "2 -0.000661 -0.001126             0.002864  0.000038  0.0   0.000000   \n",
       "\n",
       "      house  store  \n",
       "0  0.000000    0.0  \n",
       "1  0.000000    0.0  \n",
       "2  0.000019    0.0  "
      ]
     },
     "execution_count": 16,
     "metadata": {},
     "output_type": "execute_result"
    }
   ],
   "source": [
    "train = pd.DataFrame(train, columns=['year_created', 'month_created', 'day_created', \n",
    "                                     'distance_to_obelisco_mtrs', 'lat', 'lon', \n",
    "                                     'surface_total_in_m2', 'rooms', 'PH', \n",
    "                                     'apartment', 'house', 'store'])\n",
    "train.head(3)"
   ]
  },
  {
   "cell_type": "code",
   "execution_count": 17,
   "metadata": {},
   "outputs": [],
   "source": [
    "testVals = pd.DataFrame(testVals, columns=['year_created', 'month_created', 'day_created', \n",
    "                                           'distance_to_obelisco_mtrs', 'lat', 'lon', \n",
    "                                           'surface_total_in_m2', 'rooms', 'PH', \n",
    "                                           'apartment', 'house', 'store'])"
   ]
  },
  {
   "cell_type": "code",
   "execution_count": 18,
   "metadata": {},
   "outputs": [
    {
     "data": {
      "text/html": [
       "<div>\n",
       "<style scoped>\n",
       "    .dataframe tbody tr th:only-of-type {\n",
       "        vertical-align: middle;\n",
       "    }\n",
       "\n",
       "    .dataframe tbody tr th {\n",
       "        vertical-align: top;\n",
       "    }\n",
       "\n",
       "    .dataframe thead th {\n",
       "        text-align: right;\n",
       "    }\n",
       "</style>\n",
       "<table border=\"1\" class=\"dataframe\">\n",
       "  <thead>\n",
       "    <tr style=\"text-align: right;\">\n",
       "      <th></th>\n",
       "      <th>year_created</th>\n",
       "      <th>month_created</th>\n",
       "      <th>day_created</th>\n",
       "      <th>distance_to_obelisco_mtrs</th>\n",
       "      <th>lat</th>\n",
       "      <th>lon</th>\n",
       "      <th>surface_total_in_m2</th>\n",
       "      <th>rooms</th>\n",
       "      <th>PH</th>\n",
       "      <th>apartment</th>\n",
       "      <th>house</th>\n",
       "      <th>store</th>\n",
       "    </tr>\n",
       "  </thead>\n",
       "  <tbody>\n",
       "    <tr>\n",
       "      <th>0</th>\n",
       "      <td>0.737566</td>\n",
       "      <td>2.925397e-03</td>\n",
       "      <td>0.008776</td>\n",
       "      <td>0.674755</td>\n",
       "      <td>-0.012656</td>\n",
       "      <td>-0.021342</td>\n",
       "      <td>0.000000</td>\n",
       "      <td>1.097024e-03</td>\n",
       "      <td>0.0</td>\n",
       "      <td>3.656747e-04</td>\n",
       "      <td>0.0</td>\n",
       "      <td>0.0</td>\n",
       "    </tr>\n",
       "    <tr>\n",
       "      <th>1</th>\n",
       "      <td>0.000184</td>\n",
       "      <td>7.317018e-07</td>\n",
       "      <td>0.000002</td>\n",
       "      <td>1.000000</td>\n",
       "      <td>0.000003</td>\n",
       "      <td>0.000001</td>\n",
       "      <td>0.000000</td>\n",
       "      <td>1.829255e-07</td>\n",
       "      <td>0.0</td>\n",
       "      <td>9.146273e-08</td>\n",
       "      <td>0.0</td>\n",
       "      <td>0.0</td>\n",
       "    </tr>\n",
       "    <tr>\n",
       "      <th>2</th>\n",
       "      <td>0.523091</td>\n",
       "      <td>2.074731e-03</td>\n",
       "      <td>0.000259</td>\n",
       "      <td>0.851981</td>\n",
       "      <td>-0.008970</td>\n",
       "      <td>-0.015149</td>\n",
       "      <td>0.013745</td>\n",
       "      <td>7.780240e-04</td>\n",
       "      <td>0.0</td>\n",
       "      <td>2.593413e-04</td>\n",
       "      <td>0.0</td>\n",
       "      <td>0.0</td>\n",
       "    </tr>\n",
       "  </tbody>\n",
       "</table>\n",
       "</div>"
      ],
      "text/plain": [
       "   year_created  month_created  day_created  distance_to_obelisco_mtrs  \\\n",
       "0      0.737566   2.925397e-03     0.008776                   0.674755   \n",
       "1      0.000184   7.317018e-07     0.000002                   1.000000   \n",
       "2      0.523091   2.074731e-03     0.000259                   0.851981   \n",
       "\n",
       "        lat       lon  surface_total_in_m2         rooms   PH     apartment  \\\n",
       "0 -0.012656 -0.021342             0.000000  1.097024e-03  0.0  3.656747e-04   \n",
       "1  0.000003  0.000001             0.000000  1.829255e-07  0.0  9.146273e-08   \n",
       "2 -0.008970 -0.015149             0.013745  7.780240e-04  0.0  2.593413e-04   \n",
       "\n",
       "   house  store  \n",
       "0    0.0    0.0  \n",
       "1    0.0    0.0  \n",
       "2    0.0    0.0  "
      ]
     },
     "execution_count": 18,
     "metadata": {},
     "output_type": "execute_result"
    }
   ],
   "source": [
    "testVals.head(3)"
   ]
  },
  {
   "cell_type": "code",
   "execution_count": 19,
   "metadata": {},
   "outputs": [
    {
     "data": {
      "text/plain": [
       "KNeighborsRegressor(algorithm='kd_tree', leaf_size=30, metric='euclidean',\n",
       "          metric_params=None, n_jobs=-1, n_neighbors=30, p=2,\n",
       "          weights='distance')"
      ]
     },
     "execution_count": 19,
     "metadata": {},
     "output_type": "execute_result"
    }
   ],
   "source": [
    "knn = KNeighborsRegressor(n_neighbors=30, weights='distance', \n",
    "                          algorithm='kd_tree', leaf_size=30, \n",
    "                          metric='euclidean', n_jobs=-1)\n",
    "\n",
    "knn.fit(train, target)"
   ]
  },
  {
   "cell_type": "code",
   "execution_count": 20,
   "metadata": {},
   "outputs": [],
   "source": [
    "predictions = knn.predict(testVals)"
   ]
  },
  {
   "cell_type": "code",
   "execution_count": 21,
   "metadata": {},
   "outputs": [
    {
     "data": {
      "text/html": [
       "<div>\n",
       "<style scoped>\n",
       "    .dataframe tbody tr th:only-of-type {\n",
       "        vertical-align: middle;\n",
       "    }\n",
       "\n",
       "    .dataframe tbody tr th {\n",
       "        vertical-align: top;\n",
       "    }\n",
       "\n",
       "    .dataframe thead th {\n",
       "        text-align: right;\n",
       "    }\n",
       "</style>\n",
       "<table border=\"1\" class=\"dataframe\">\n",
       "  <thead>\n",
       "    <tr style=\"text-align: right;\">\n",
       "      <th></th>\n",
       "      <th>id</th>\n",
       "      <th>price_usd</th>\n",
       "    </tr>\n",
       "  </thead>\n",
       "  <tbody>\n",
       "    <tr>\n",
       "      <th>0</th>\n",
       "      <td>3632</td>\n",
       "      <td>78441.396952</td>\n",
       "    </tr>\n",
       "    <tr>\n",
       "      <th>1</th>\n",
       "      <td>3633</td>\n",
       "      <td>101953.365716</td>\n",
       "    </tr>\n",
       "    <tr>\n",
       "      <th>2</th>\n",
       "      <td>2263404</td>\n",
       "      <td>147741.261453</td>\n",
       "    </tr>\n",
       "    <tr>\n",
       "      <th>3</th>\n",
       "      <td>2263405</td>\n",
       "      <td>81392.830896</td>\n",
       "    </tr>\n",
       "    <tr>\n",
       "      <th>4</th>\n",
       "      <td>2263406</td>\n",
       "      <td>110329.124376</td>\n",
       "    </tr>\n",
       "  </tbody>\n",
       "</table>\n",
       "</div>"
      ],
      "text/plain": [
       "        id      price_usd\n",
       "0     3632   78441.396952\n",
       "1     3633  101953.365716\n",
       "2  2263404  147741.261453\n",
       "3  2263405   81392.830896\n",
       "4  2263406  110329.124376"
      ]
     },
     "execution_count": 21,
     "metadata": {},
     "output_type": "execute_result"
    }
   ],
   "source": [
    "result = pd.DataFrame({'id':testIds, 'price_usd':predictions})\n",
    "result.head()"
   ]
  },
  {
   "cell_type": "code",
   "execution_count": 22,
   "metadata": {},
   "outputs": [],
   "source": [
    "result.to_csv('../data/predictions/4th_acercamiento.csv', index=False)"
   ]
  }
 ],
 "metadata": {
  "kernelspec": {
   "display_name": "Python 2",
   "language": "python",
   "name": "python2"
  },
  "language_info": {
   "codemirror_mode": {
    "name": "ipython",
    "version": 2
   },
   "file_extension": ".py",
   "mimetype": "text/x-python",
   "name": "python",
   "nbconvert_exporter": "python",
   "pygments_lexer": "ipython2",
   "version": "2.7.12"
  }
 },
 "nbformat": 4,
 "nbformat_minor": 2
}
