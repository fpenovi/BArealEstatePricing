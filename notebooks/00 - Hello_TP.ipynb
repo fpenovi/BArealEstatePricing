{
 "cells": [
  {
   "cell_type": "code",
   "execution_count": 1,
   "metadata": {
    "collapsed": true,
    "deletable": true,
    "editable": true
   },
   "outputs": [],
   "source": [
    "import pandas as pd\n",
    "import numpy as np"
   ]
  },
  {
   "cell_type": "code",
   "execution_count": 2,
   "metadata": {
    "collapsed": false,
    "deletable": true,
    "editable": true
   },
   "outputs": [
    {
     "name": "stderr",
     "output_type": "stream",
     "text": [
      "/home/franch/.local/lib/python2.7/site-packages/IPython/core/interactiveshell.py:2717: DtypeWarning: Columns (2) have mixed types. Specify dtype option on import or set low_memory=False.\n",
      "  interactivity=interactivity, compiler=compiler, result=result)\n"
     ]
    }
   ],
   "source": [
    "dfPublications = pd.read_csv('../data/output/output.csv', parse_dates=['created_on'], infer_datetime_format=True)"
   ]
  },
  {
   "cell_type": "code",
   "execution_count": 3,
   "metadata": {
    "collapsed": false,
    "deletable": true,
    "editable": true
   },
   "outputs": [
    {
     "name": "stdout",
     "output_type": "stream",
     "text": [
      "<class 'pandas.core.frame.DataFrame'>\n",
      "RangeIndex: 1542526 entries, 0 to 1542525\n",
      "Data columns (total 21 columns):\n",
      "created_on                    1542526 non-null datetime64[ns]\n",
      "currency                      1457402 non-null object\n",
      "expenses                      62433 non-null object\n",
      "floor                         297678 non-null float64\n",
      "geonames_id                   1263558 non-null float64\n",
      "id                            1542526 non-null object\n",
      "lat                           1185534 non-null float64\n",
      "lon                           1185523 non-null float64\n",
      "operation                     1542526 non-null object\n",
      "place_name                    1542429 non-null object\n",
      "place_with_parent_names       1542526 non-null object\n",
      "price                         1462288 non-null float64\n",
      "price_aprox_local_currency    1462286 non-null float64\n",
      "price_aprox_usd               1462286 non-null float64\n",
      "price_per_m2                  226511 non-null float64\n",
      "price_usd_per_m2              1016463 non-null float64\n",
      "property_type                 1542526 non-null object\n",
      "rooms                         898609 non-null float64\n",
      "state_name                    1542526 non-null object\n",
      "surface_covered_in_m2         251752 non-null float64\n",
      "surface_total_in_m2           1134390 non-null float64\n",
      "dtypes: datetime64[ns](1), float64(12), object(8)\n",
      "memory usage: 247.1+ MB\n"
     ]
    }
   ],
   "source": [
    "dfPublications.info()"
   ]
  },
  {
   "cell_type": "code",
   "execution_count": null,
   "metadata": {
    "collapsed": true,
    "deletable": true,
    "editable": true
   },
   "outputs": [],
   "source": []
  }
 ],
 "metadata": {
  "kernelspec": {
   "display_name": "Python 2",
   "language": "python",
   "name": "python2"
  },
  "language_info": {
   "codemirror_mode": {
    "name": "ipython",
    "version": 2
   },
   "file_extension": ".py",
   "mimetype": "text/x-python",
   "name": "python",
   "nbconvert_exporter": "python",
   "pygments_lexer": "ipython2",
   "version": "2.7.12"
  }
 },
 "nbformat": 4,
 "nbformat_minor": 2
}
