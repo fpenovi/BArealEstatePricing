{
 "cells": [
  {
   "cell_type": "code",
   "execution_count": 1,
   "metadata": {
    "collapsed": true,
    "deletable": true,
    "editable": true
   },
   "outputs": [],
   "source": [
    "import pandas as pd\n",
    "import numpy as np\n",
    "import matplotlib.pyplot as plt\n",
    "import seaborn as sns"
   ]
  },
  {
   "cell_type": "code",
   "execution_count": 2,
   "metadata": {
    "collapsed": false,
    "deletable": true,
    "editable": true
   },
   "outputs": [],
   "source": [
    "dfPublications = pd.read_csv('../data/output/output.csv', parse_dates=['created_on'], infer_datetime_format=True)"
   ]
  },
  {
   "cell_type": "code",
   "execution_count": 3,
   "metadata": {
    "collapsed": false,
    "deletable": true,
    "editable": true
   },
   "outputs": [
    {
     "name": "stdout",
     "output_type": "stream",
     "text": [
      "<class 'pandas.core.frame.DataFrame'>\n",
      "RangeIndex: 1462286 entries, 0 to 1462285\n",
      "Data columns (total 18 columns):\n",
      "id                            1462286 non-null object\n",
      "created_on                    1462286 non-null datetime64[ns]\n",
      "property_type                 1462286 non-null object\n",
      "place_name                    1462286 non-null object\n",
      "state_name                    1462286 non-null object\n",
      "lat                           1122304 non-null float64\n",
      "lon                           1122293 non-null float64\n",
      "price                         1462286 non-null float64\n",
      "currency                      1457400 non-null object\n",
      "price_aprox_local_currency    1462286 non-null float64\n",
      "price_aprox_usd               1462286 non-null float64\n",
      "surface_total_in_m2           1079918 non-null float64\n",
      "surface_covered_in_m2         233333 non-null float64\n",
      "price_usd_per_m2              1016393 non-null float64\n",
      "price_per_m2                  226511 non-null float64\n",
      "floor                         289280 non-null float64\n",
      "rooms                         850559 non-null float64\n",
      "expenses                      56426 non-null float64\n",
      "dtypes: datetime64[ns](1), float64(12), object(5)\n",
      "memory usage: 200.8+ MB\n"
     ]
    }
   ],
   "source": [
    "dfPublications.info()"
   ]
  },
  {
   "cell_type": "code",
   "execution_count": null,
   "metadata": {
    "collapsed": true
   },
   "outputs": [],
   "source": []
  }
 ],
 "metadata": {
  "kernelspec": {
   "display_name": "Python 2",
   "language": "python",
   "name": "python2"
  },
  "language_info": {
   "codemirror_mode": {
    "name": "ipython",
    "version": 2
   },
   "file_extension": ".py",
   "mimetype": "text/x-python",
   "name": "python",
   "nbconvert_exporter": "python",
   "pygments_lexer": "ipython2",
   "version": "2.7.12"
  }
 },
 "nbformat": 4,
 "nbformat_minor": 2
}
