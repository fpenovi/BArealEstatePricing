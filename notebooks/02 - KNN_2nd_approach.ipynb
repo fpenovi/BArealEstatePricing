{
 "cells": [
  {
   "cell_type": "code",
   "execution_count": 1,
   "metadata": {},
   "outputs": [],
   "source": [
    "import numpy as np\n",
    "import pandas as pd\n",
    "from sklearn import preprocessing\n",
    "from sklearn.neighbors import KNeighborsRegressor\n",
    "import csv\n",
    "import geopy.distance"
   ]
  },
  {
   "cell_type": "markdown",
   "metadata": {},
   "source": [
    "### Primer acercamiento a Machine Learning (KNN)"
   ]
  },
  {
   "cell_type": "code",
   "execution_count": 2,
   "metadata": {},
   "outputs": [],
   "source": [
    "dfTest = pd.read_csv('../data/TRAIN_TEST_corrected/test_corrected.csv')\n",
    "dfTrain = pd.read_csv('../data/TRAIN_TEST_corrected/train_corrected.csv')\n",
    "dfExternalCoords = pd.read_csv('../data/externalData/coordenadas_barrios.csv')"
   ]
  },
  {
   "cell_type": "code",
   "execution_count": 3,
   "metadata": {},
   "outputs": [
    {
     "name": "stdout",
     "output_type": "stream",
     "text": [
      "<class 'pandas.core.frame.DataFrame'>\n",
      "RangeIndex: 14166 entries, 0 to 14165\n",
      "Data columns (total 11 columns):\n",
      "id                     14166 non-null int64\n",
      "year_created           14166 non-null int64\n",
      "month_created          14166 non-null int64\n",
      "day_created            14166 non-null int64\n",
      "property_type          14166 non-null object\n",
      "place_name             14166 non-null object\n",
      "state_name             14166 non-null object\n",
      "lat                    10487 non-null float64\n",
      "lon                    10487 non-null float64\n",
      "surface_total_in_m2    11853 non-null float64\n",
      "rooms                  7501 non-null float64\n",
      "dtypes: float64(4), int64(4), object(3)\n",
      "memory usage: 1.2+ MB\n"
     ]
    }
   ],
   "source": [
    "dfTest.info()"
   ]
  },
  {
   "cell_type": "code",
   "execution_count": 4,
   "metadata": {
    "scrolled": true
   },
   "outputs": [
    {
     "name": "stdout",
     "output_type": "stream",
     "text": [
      "<class 'pandas.core.frame.DataFrame'>\n",
      "RangeIndex: 1004797 entries, 0 to 1004796\n",
      "Data columns (total 12 columns):\n",
      "id                     1004797 non-null object\n",
      "year_created           1004797 non-null int64\n",
      "month_created          1004797 non-null int64\n",
      "day_created            1004797 non-null int64\n",
      "property_type          1004797 non-null object\n",
      "place_name             1004797 non-null object\n",
      "state_name             1004797 non-null object\n",
      "lat                    743693 non-null float64\n",
      "lon                    743682 non-null float64\n",
      "surface_total_in_m2    1004797 non-null float64\n",
      "rooms                  594683 non-null float64\n",
      "price_aprox_usd        1004797 non-null float64\n",
      "dtypes: float64(5), int64(3), object(4)\n",
      "memory usage: 92.0+ MB\n"
     ]
    }
   ],
   "source": [
    "dfTrain.info()"
   ]
  },
  {
   "cell_type": "code",
   "execution_count": 5,
   "metadata": {},
   "outputs": [
    {
     "name": "stdout",
     "output_type": "stream",
     "text": [
      "<class 'pandas.core.frame.DataFrame'>\n",
      "RangeIndex: 438 entries, 0 to 437\n",
      "Data columns (total 4 columns):\n",
      "place                        438 non-null object\n",
      "lat                          435 non-null float64\n",
      "lon                          435 non-null float64\n",
      "distance_to_obelisco_mtrs    435 non-null float64\n",
      "dtypes: float64(3), object(1)\n",
      "memory usage: 13.8+ KB\n"
     ]
    }
   ],
   "source": [
    "dfExternalCoords.info()"
   ]
  },
  {
   "cell_type": "code",
   "execution_count": 6,
   "metadata": {},
   "outputs": [
    {
     "data": {
      "text/html": [
       "<div>\n",
       "<style>\n",
       "    .dataframe thead tr:only-child th {\n",
       "        text-align: right;\n",
       "    }\n",
       "\n",
       "    .dataframe thead th {\n",
       "        text-align: left;\n",
       "    }\n",
       "\n",
       "    .dataframe tbody tr th {\n",
       "        vertical-align: top;\n",
       "    }\n",
       "</style>\n",
       "<table border=\"1\" class=\"dataframe\">\n",
       "  <thead>\n",
       "    <tr style=\"text-align: right;\">\n",
       "      <th></th>\n",
       "      <th>place</th>\n",
       "      <th>lat</th>\n",
       "      <th>lon</th>\n",
       "      <th>distance_to_obelisco_mtrs</th>\n",
       "    </tr>\n",
       "  </thead>\n",
       "  <tbody>\n",
       "    <tr>\n",
       "      <th>0</th>\n",
       "      <td>Country Club Las lajas</td>\n",
       "      <td>-34.590190</td>\n",
       "      <td>-58.933716</td>\n",
       "      <td>50672.525719</td>\n",
       "    </tr>\n",
       "    <tr>\n",
       "      <th>1</th>\n",
       "      <td>Barrio Cerrado El Lucero</td>\n",
       "      <td>-34.422229</td>\n",
       "      <td>-58.763899</td>\n",
       "      <td>40471.776026</td>\n",
       "    </tr>\n",
       "    <tr>\n",
       "      <th>2</th>\n",
       "      <td>Caballito</td>\n",
       "      <td>-34.620928</td>\n",
       "      <td>-58.445874</td>\n",
       "      <td>6198.266937</td>\n",
       "    </tr>\n",
       "    <tr>\n",
       "      <th>3</th>\n",
       "      <td>Gregorio de Laferrere</td>\n",
       "      <td>-34.749748</td>\n",
       "      <td>-58.584591</td>\n",
       "      <td>24668.602907</td>\n",
       "    </tr>\n",
       "    <tr>\n",
       "      <th>4</th>\n",
       "      <td>Acassuso</td>\n",
       "      <td>-34.477361</td>\n",
       "      <td>-58.499270</td>\n",
       "      <td>17699.585005</td>\n",
       "    </tr>\n",
       "  </tbody>\n",
       "</table>\n",
       "</div>"
      ],
      "text/plain": [
       "                      place        lat        lon  distance_to_obelisco_mtrs\n",
       "0    Country Club Las lajas -34.590190 -58.933716               50672.525719\n",
       "1  Barrio Cerrado El Lucero -34.422229 -58.763899               40471.776026\n",
       "2                 Caballito -34.620928 -58.445874                6198.266937\n",
       "3     Gregorio de Laferrere -34.749748 -58.584591               24668.602907\n",
       "4                  Acassuso -34.477361 -58.499270               17699.585005"
      ]
     },
     "execution_count": 6,
     "metadata": {},
     "output_type": "execute_result"
    }
   ],
   "source": [
    "# Filtro los 3 registros de los cuales no tengo informacion de location\n",
    "dfExternalCoords = dfExternalCoords.loc[pd.notnull(dfExternalCoords.lat)]\n",
    "dfExternalCoords.head()"
   ]
  },
  {
   "cell_type": "markdown",
   "metadata": {},
   "source": [
    "## ToDo:\n",
    "+ Resolver NaN's en lat / lon con externalData.\n",
    "+ Reemplazar place_name con distancia al obelisco.\n",
    "+ Z-codes Standardization.\n",
    "+ OneHotEncode property_type y state_name.\n",
    "+ Make Submit & Comparison\n",
    "+ Cross Validation K-Folds -> Make Submit & Comparison"
   ]
  },
  {
   "cell_type": "code",
   "execution_count": 7,
   "metadata": {},
   "outputs": [
    {
     "data": {
      "text/html": [
       "<div>\n",
       "<style>\n",
       "    .dataframe thead tr:only-child th {\n",
       "        text-align: right;\n",
       "    }\n",
       "\n",
       "    .dataframe thead th {\n",
       "        text-align: left;\n",
       "    }\n",
       "\n",
       "    .dataframe tbody tr th {\n",
       "        vertical-align: top;\n",
       "    }\n",
       "</style>\n",
       "<table border=\"1\" class=\"dataframe\">\n",
       "  <thead>\n",
       "    <tr style=\"text-align: right;\">\n",
       "      <th></th>\n",
       "      <th>id</th>\n",
       "      <th>year_created</th>\n",
       "      <th>month_created</th>\n",
       "      <th>day_created</th>\n",
       "      <th>property_type</th>\n",
       "      <th>place_name</th>\n",
       "      <th>state_name</th>\n",
       "      <th>lat</th>\n",
       "      <th>lon</th>\n",
       "      <th>surface_total_in_m2</th>\n",
       "      <th>rooms</th>\n",
       "      <th>price_aprox_usd</th>\n",
       "    </tr>\n",
       "  </thead>\n",
       "  <tbody>\n",
       "    <tr>\n",
       "      <th>0</th>\n",
       "      <td>1771e4252915a911b8eb4964cde2790d5623bd33</td>\n",
       "      <td>2013</td>\n",
       "      <td>8</td>\n",
       "      <td>28</td>\n",
       "      <td>apartment</td>\n",
       "      <td>Caseros</td>\n",
       "      <td>Bs.As. G.B.A. Zona Oeste</td>\n",
       "      <td>-34.600116</td>\n",
       "      <td>-58.565334</td>\n",
       "      <td>62.0</td>\n",
       "      <td>3.0</td>\n",
       "      <td>130650.48</td>\n",
       "    </tr>\n",
       "    <tr>\n",
       "      <th>1</th>\n",
       "      <td>d63560d1f8f797a6d412814a27ec570beafb9d90</td>\n",
       "      <td>2013</td>\n",
       "      <td>8</td>\n",
       "      <td>28</td>\n",
       "      <td>apartment</td>\n",
       "      <td>Villa Crespo</td>\n",
       "      <td>Capital Federal</td>\n",
       "      <td>-34.597274</td>\n",
       "      <td>-58.439479</td>\n",
       "      <td>44.0</td>\n",
       "      <td>2.0</td>\n",
       "      <td>78500.00</td>\n",
       "    </tr>\n",
       "  </tbody>\n",
       "</table>\n",
       "</div>"
      ],
      "text/plain": [
       "                                         id  year_created  month_created  \\\n",
       "0  1771e4252915a911b8eb4964cde2790d5623bd33          2013              8   \n",
       "1  d63560d1f8f797a6d412814a27ec570beafb9d90          2013              8   \n",
       "\n",
       "   day_created property_type    place_name                state_name  \\\n",
       "0           28     apartment       Caseros  Bs.As. G.B.A. Zona Oeste   \n",
       "1           28     apartment  Villa Crespo           Capital Federal   \n",
       "\n",
       "         lat        lon  surface_total_in_m2  rooms  price_aprox_usd  \n",
       "0 -34.600116 -58.565334                 62.0    3.0        130650.48  \n",
       "1 -34.597274 -58.439479                 44.0    2.0         78500.00  "
      ]
     },
     "execution_count": 7,
     "metadata": {},
     "output_type": "execute_result"
    }
   ],
   "source": [
    "dfTrain.head(2)"
   ]
  },
  {
   "cell_type": "code",
   "execution_count": 8,
   "metadata": {},
   "outputs": [
    {
     "data": {
      "text/html": [
       "<div>\n",
       "<style>\n",
       "    .dataframe thead tr:only-child th {\n",
       "        text-align: right;\n",
       "    }\n",
       "\n",
       "    .dataframe thead th {\n",
       "        text-align: left;\n",
       "    }\n",
       "\n",
       "    .dataframe tbody tr th {\n",
       "        vertical-align: top;\n",
       "    }\n",
       "</style>\n",
       "<table border=\"1\" class=\"dataframe\">\n",
       "  <thead>\n",
       "    <tr style=\"text-align: right;\">\n",
       "      <th></th>\n",
       "      <th>id</th>\n",
       "      <th>year_created</th>\n",
       "      <th>month_created</th>\n",
       "      <th>day_created</th>\n",
       "      <th>property_type</th>\n",
       "      <th>place_name</th>\n",
       "      <th>state_name</th>\n",
       "      <th>lat</th>\n",
       "      <th>lon</th>\n",
       "      <th>surface_total_in_m2</th>\n",
       "      <th>rooms</th>\n",
       "    </tr>\n",
       "  </thead>\n",
       "  <tbody>\n",
       "    <tr>\n",
       "      <th>0</th>\n",
       "      <td>3632</td>\n",
       "      <td>2017</td>\n",
       "      <td>8</td>\n",
       "      <td>24</td>\n",
       "      <td>apartment</td>\n",
       "      <td>Puerto Madero</td>\n",
       "      <td>Capital Federal</td>\n",
       "      <td>-34.610988</td>\n",
       "      <td>-58.363464</td>\n",
       "      <td>0.0</td>\n",
       "      <td>NaN</td>\n",
       "    </tr>\n",
       "    <tr>\n",
       "      <th>1</th>\n",
       "      <td>3633</td>\n",
       "      <td>2017</td>\n",
       "      <td>8</td>\n",
       "      <td>25</td>\n",
       "      <td>apartment</td>\n",
       "      <td>Palermo</td>\n",
       "      <td>Capital Federal</td>\n",
       "      <td>NaN</td>\n",
       "      <td>NaN</td>\n",
       "      <td>0.0</td>\n",
       "      <td>2.0</td>\n",
       "    </tr>\n",
       "  </tbody>\n",
       "</table>\n",
       "</div>"
      ],
      "text/plain": [
       "     id  year_created  month_created  day_created property_type  \\\n",
       "0  3632          2017              8           24     apartment   \n",
       "1  3633          2017              8           25     apartment   \n",
       "\n",
       "      place_name       state_name        lat        lon  surface_total_in_m2  \\\n",
       "0  Puerto Madero  Capital Federal -34.610988 -58.363464                  0.0   \n",
       "1        Palermo  Capital Federal        NaN        NaN                  0.0   \n",
       "\n",
       "   rooms  \n",
       "0    NaN  \n",
       "1    2.0  "
      ]
     },
     "execution_count": 8,
     "metadata": {},
     "output_type": "execute_result"
    }
   ],
   "source": [
    "dfTest.head(2)"
   ]
  },
  {
   "cell_type": "markdown",
   "metadata": {},
   "source": [
    "___\n",
    "### Corriendo el primer KNN"
   ]
  },
  {
   "cell_type": "code",
   "execution_count": 9,
   "metadata": {},
   "outputs": [
    {
     "name": "stdout",
     "output_type": "stream",
     "text": [
      "Cantidad de barrios con menos de 100 publicaciones: 7957\n"
     ]
    }
   ],
   "source": [
    "dfUtil = dfTrain.loc[:, ('place_name', 'year_created')]\\\n",
    "                .groupby(by='place_name')\\\n",
    "                .count().reset_index()\\\n",
    "                .sort_values(by='year_created', ascending=False)\\\n",
    "                .rename(columns={'year_created':'place_ocurrences'})\n",
    "print 'Cantidad de barrios con menos de 100 publicaciones:', dfUtil.loc[dfUtil.place_ocurrences < 100, ('place_ocurrences')].sum()"
   ]
  },
  {
   "cell_type": "code",
   "execution_count": 10,
   "metadata": {},
   "outputs": [],
   "source": [
    "# ONE-TO-K ENCODING: PROPERTY_TYPE\n",
    "prop_type_labelEncoder = preprocessing.LabelEncoder()\n",
    "prop_type_labelEncoder.fit(np.array(list(dfTrain.property_type.unique()), dtype='object'))\n",
    "\n",
    "trainPropTypeIntEncoded = prop_type_labelEncoder.transform(dfTrain.property_type)\n",
    "testPropTypeIntEncoded = prop_type_labelEncoder.transform(dfTest.property_type)\n",
    "\n",
    "enc = preprocessing.OneHotEncoder(sparse=False)\n",
    "matrixTrainPropTypeEnc = enc.fit_transform(trainPropTypeIntEncoded.reshape(len(trainPropTypeIntEncoded), 1))\n",
    "matrixTestPropTypeEnc = enc.transform(testPropTypeIntEncoded.reshape(len(testPropTypeIntEncoded), 1))\n",
    "\n",
    "oneHotCodeCategoriesTrain = pd.DataFrame(matrixTrainPropTypeEnc, columns=prop_type_labelEncoder.classes_)\n",
    "oneHotCodeCategoriesTest = pd.DataFrame(matrixTestPropTypeEnc, columns=prop_type_labelEncoder.classes_)\n",
    "\n",
    "dfTrain = pd.concat([dfTrain.reset_index(drop=True), oneHotCodeCategoriesTrain.reset_index(drop=True)], \n",
    "                     axis=1).drop('property_type', axis=1)\n",
    "\n",
    "dfTest = pd.concat([dfTest.reset_index(drop=True), oneHotCodeCategoriesTest.reset_index(drop=True)],\n",
    "                    axis=1).drop('property_type', axis=1)"
   ]
  },
  {
   "cell_type": "code",
   "execution_count": 11,
   "metadata": {
    "scrolled": true
   },
   "outputs": [
    {
     "data": {
      "text/html": [
       "<div>\n",
       "<style>\n",
       "    .dataframe thead tr:only-child th {\n",
       "        text-align: right;\n",
       "    }\n",
       "\n",
       "    .dataframe thead th {\n",
       "        text-align: left;\n",
       "    }\n",
       "\n",
       "    .dataframe tbody tr th {\n",
       "        vertical-align: top;\n",
       "    }\n",
       "</style>\n",
       "<table border=\"1\" class=\"dataframe\">\n",
       "  <thead>\n",
       "    <tr style=\"text-align: right;\">\n",
       "      <th></th>\n",
       "      <th>id</th>\n",
       "      <th>year_created</th>\n",
       "      <th>month_created</th>\n",
       "      <th>day_created</th>\n",
       "      <th>place_name</th>\n",
       "      <th>state_name</th>\n",
       "      <th>lat</th>\n",
       "      <th>lon</th>\n",
       "      <th>surface_total_in_m2</th>\n",
       "      <th>rooms</th>\n",
       "      <th>price_aprox_usd</th>\n",
       "      <th>PH</th>\n",
       "      <th>apartment</th>\n",
       "      <th>house</th>\n",
       "      <th>store</th>\n",
       "    </tr>\n",
       "  </thead>\n",
       "  <tbody>\n",
       "    <tr>\n",
       "      <th>0</th>\n",
       "      <td>1771e4252915a911b8eb4964cde2790d5623bd33</td>\n",
       "      <td>2013</td>\n",
       "      <td>8</td>\n",
       "      <td>28</td>\n",
       "      <td>Caseros</td>\n",
       "      <td>Bs.As. G.B.A. Zona Oeste</td>\n",
       "      <td>-34.600116</td>\n",
       "      <td>-58.565334</td>\n",
       "      <td>62.0</td>\n",
       "      <td>3.0</td>\n",
       "      <td>130650.48</td>\n",
       "      <td>0.0</td>\n",
       "      <td>1.0</td>\n",
       "      <td>0.0</td>\n",
       "      <td>0.0</td>\n",
       "    </tr>\n",
       "    <tr>\n",
       "      <th>1</th>\n",
       "      <td>d63560d1f8f797a6d412814a27ec570beafb9d90</td>\n",
       "      <td>2013</td>\n",
       "      <td>8</td>\n",
       "      <td>28</td>\n",
       "      <td>Villa Crespo</td>\n",
       "      <td>Capital Federal</td>\n",
       "      <td>-34.597274</td>\n",
       "      <td>-58.439479</td>\n",
       "      <td>44.0</td>\n",
       "      <td>2.0</td>\n",
       "      <td>78500.00</td>\n",
       "      <td>0.0</td>\n",
       "      <td>1.0</td>\n",
       "      <td>0.0</td>\n",
       "      <td>0.0</td>\n",
       "    </tr>\n",
       "  </tbody>\n",
       "</table>\n",
       "</div>"
      ],
      "text/plain": [
       "                                         id  year_created  month_created  \\\n",
       "0  1771e4252915a911b8eb4964cde2790d5623bd33          2013              8   \n",
       "1  d63560d1f8f797a6d412814a27ec570beafb9d90          2013              8   \n",
       "\n",
       "   day_created    place_name                state_name        lat        lon  \\\n",
       "0           28       Caseros  Bs.As. G.B.A. Zona Oeste -34.600116 -58.565334   \n",
       "1           28  Villa Crespo           Capital Federal -34.597274 -58.439479   \n",
       "\n",
       "   surface_total_in_m2  rooms  price_aprox_usd   PH  apartment  house  store  \n",
       "0                 62.0    3.0        130650.48  0.0        1.0    0.0    0.0  \n",
       "1                 44.0    2.0         78500.00  0.0        1.0    0.0    0.0  "
      ]
     },
     "execution_count": 11,
     "metadata": {},
     "output_type": "execute_result"
    }
   ],
   "source": [
    "dfTrain.head(2)"
   ]
  },
  {
   "cell_type": "code",
   "execution_count": 12,
   "metadata": {},
   "outputs": [
    {
     "data": {
      "text/html": [
       "<div>\n",
       "<style>\n",
       "    .dataframe thead tr:only-child th {\n",
       "        text-align: right;\n",
       "    }\n",
       "\n",
       "    .dataframe thead th {\n",
       "        text-align: left;\n",
       "    }\n",
       "\n",
       "    .dataframe tbody tr th {\n",
       "        vertical-align: top;\n",
       "    }\n",
       "</style>\n",
       "<table border=\"1\" class=\"dataframe\">\n",
       "  <thead>\n",
       "    <tr style=\"text-align: right;\">\n",
       "      <th></th>\n",
       "      <th>id</th>\n",
       "      <th>year_created</th>\n",
       "      <th>month_created</th>\n",
       "      <th>day_created</th>\n",
       "      <th>place_name</th>\n",
       "      <th>state_name</th>\n",
       "      <th>lat</th>\n",
       "      <th>lon</th>\n",
       "      <th>surface_total_in_m2</th>\n",
       "      <th>rooms</th>\n",
       "      <th>PH</th>\n",
       "      <th>apartment</th>\n",
       "      <th>house</th>\n",
       "      <th>store</th>\n",
       "    </tr>\n",
       "  </thead>\n",
       "  <tbody>\n",
       "    <tr>\n",
       "      <th>0</th>\n",
       "      <td>3632</td>\n",
       "      <td>2017</td>\n",
       "      <td>8</td>\n",
       "      <td>24</td>\n",
       "      <td>Puerto Madero</td>\n",
       "      <td>Capital Federal</td>\n",
       "      <td>-34.610988</td>\n",
       "      <td>-58.363464</td>\n",
       "      <td>0.0</td>\n",
       "      <td>NaN</td>\n",
       "      <td>0.0</td>\n",
       "      <td>1.0</td>\n",
       "      <td>0.0</td>\n",
       "      <td>0.0</td>\n",
       "    </tr>\n",
       "    <tr>\n",
       "      <th>1</th>\n",
       "      <td>3633</td>\n",
       "      <td>2017</td>\n",
       "      <td>8</td>\n",
       "      <td>25</td>\n",
       "      <td>Palermo</td>\n",
       "      <td>Capital Federal</td>\n",
       "      <td>NaN</td>\n",
       "      <td>NaN</td>\n",
       "      <td>0.0</td>\n",
       "      <td>2.0</td>\n",
       "      <td>0.0</td>\n",
       "      <td>1.0</td>\n",
       "      <td>0.0</td>\n",
       "      <td>0.0</td>\n",
       "    </tr>\n",
       "  </tbody>\n",
       "</table>\n",
       "</div>"
      ],
      "text/plain": [
       "     id  year_created  month_created  day_created     place_name  \\\n",
       "0  3632          2017              8           24  Puerto Madero   \n",
       "1  3633          2017              8           25        Palermo   \n",
       "\n",
       "        state_name        lat        lon  surface_total_in_m2  rooms   PH  \\\n",
       "0  Capital Federal -34.610988 -58.363464                  0.0    NaN  0.0   \n",
       "1  Capital Federal        NaN        NaN                  0.0    2.0  0.0   \n",
       "\n",
       "   apartment  house  store  \n",
       "0        1.0    0.0    0.0  \n",
       "1        1.0    0.0    0.0  "
      ]
     },
     "execution_count": 12,
     "metadata": {},
     "output_type": "execute_result"
    }
   ],
   "source": [
    "dfTest.head(2)"
   ]
  },
  {
   "cell_type": "markdown",
   "metadata": {},
   "source": [
    "### Reemplazo de place_name y state_name por distancia al obelisco\n",
    "> + Si tiene lat y lon la dejo y calculo su distancia al obelisco.\n",
    "> + Si no tiene lat y lon, las estraigo de los datos externos traidos de Gmaps"
   ]
  },
  {
   "cell_type": "code",
   "execution_count": 13,
   "metadata": {},
   "outputs": [],
   "source": [
    "# Calculo distancias al obelisco en donde pueda y en las otras dejo NaN :\n",
    "def distanceToObeliscoMeters(seriesLat, seriesLon) :\n",
    "    distance_2_obelisco = []\n",
    "    obelisco = (-34.6037389, -58.3815704)\n",
    "    \n",
    "    for lat, lon in zip(seriesLat, seriesLon) :        \n",
    "        dist_m = np.nan if (pd.isnull(lat) or pd.isnull(lon)) else geopy.distance.vincenty(obelisco, (lat, lon)).m\n",
    "        distance_2_obelisco.append(dist_m)\n",
    "        \n",
    "    return pd.Series(distance_2_obelisco)"
   ]
  },
  {
   "cell_type": "code",
   "execution_count": 14,
   "metadata": {},
   "outputs": [],
   "source": [
    "distancesObeliscoTrain = distanceToObeliscoMeters(dfTrain.lat, dfTrain.lon)\n",
    "distancesObeliscoTest = distanceToObeliscoMeters(dfTest.lat, dfTest.lon)\n",
    "dfTrain.insert(column='distance_to_obelisco_mtrs', loc=4, value=distancesObeliscoTrain)"
   ]
  },
  {
   "cell_type": "code",
   "execution_count": 15,
   "metadata": {},
   "outputs": [],
   "source": [
    "dfUpdate = dfTrain.loc[pd.isnull(dfTrain.distance_to_obelisco_mtrs)].rename(columns={'place_name':'place'})\\\n",
    "                                                                    .merge(dfExternalCoords, how='inner', on=['place'])\\\n",
    "                                                                    .drop(['lat_x', 'lon_x', 'distance_to_obelisco_mtrs_x'], axis=1)\\\n",
    "                                                                    .rename(columns={'lat_y':'lat', 'lon_y':'lon', 'distance_to_obelisco_mtrs_y':'distance_to_obelisco_mtrs'})"
   ]
  },
  {
   "cell_type": "code",
   "execution_count": 16,
   "metadata": {},
   "outputs": [],
   "source": [
    "dfTrain.set_index('id', drop=True, inplace=True)\n",
    "dfUpdate.set_index('id', drop=True, inplace=True)\n",
    "dfTrain.update(dfUpdate)"
   ]
  },
  {
   "cell_type": "code",
   "execution_count": 17,
   "metadata": {},
   "outputs": [
    {
     "name": "stdout",
     "output_type": "stream",
     "text": [
      "<class 'pandas.core.frame.DataFrame'>\n",
      "Index: 1004797 entries, 1771e4252915a911b8eb4964cde2790d5623bd33 to eb2e1fe4ad4e7c326d5fb92602c7cac11bb856c6\n",
      "Data columns (total 15 columns):\n",
      "year_created                 1004797 non-null float64\n",
      "month_created                1004797 non-null float64\n",
      "day_created                  1004797 non-null float64\n",
      "distance_to_obelisco_mtrs    1004777 non-null float64\n",
      "place_name                   1004797 non-null object\n",
      "state_name                   1004797 non-null object\n",
      "lat                          1004777 non-null float64\n",
      "lon                          1004777 non-null float64\n",
      "surface_total_in_m2          1004797 non-null float64\n",
      "rooms                        594683 non-null float64\n",
      "price_aprox_usd              1004797 non-null float64\n",
      "PH                           1004797 non-null float64\n",
      "apartment                    1004797 non-null float64\n",
      "house                        1004797 non-null float64\n",
      "store                        1004797 non-null float64\n",
      "dtypes: float64(13), object(2)\n",
      "memory usage: 122.7+ MB\n"
     ]
    }
   ],
   "source": [
    "dfTrain.info()"
   ]
  },
  {
   "cell_type": "code",
   "execution_count": null,
   "metadata": {},
   "outputs": [],
   "source": [
    "# Lleno los valores faltantes (NaN's) con la clase predominante en esa columna\n",
    "\n",
    "imp = preprocessing.Imputer(missing_values='NaN', strategy='most_frequent')\n",
    "imp.fit(dfTrain[['rooms']])\n",
    "dfTrain.rooms = imp.transform(dfTrain[['rooms']]).ravel()\n",
    "\n",
    "imp = preprocessing.Imputer(missing_values='NaN', strategy='mean')\n",
    "imp.fit(dfTrain[['lat']])\n",
    "dfTrain.lat = imp.transform(dfTrain[['lat']]).ravel()\n",
    "imp = preprocessing.Imputer(missing_values='NaN', strategy='mean')\n",
    "imp.fit(dfTrain[['lon']])\n",
    "dfTrain.lon = imp.transform(dfTrain[['lon']]).ravel()\n",
    "\n",
    "imp = preprocessing.Imputer(missing_values='NaN', strategy='most_frequent')\n",
    "imp.fit(dfTest[['rooms']])\n",
    "dfTest.rooms = imp.transform(dfTest[['rooms']]).ravel()\n",
    "\n",
    "imp = preprocessing.Imputer(missing_values='NaN', strategy='mean')\n",
    "imp.fit(dfTest[['lat']])\n",
    "dfTest.lat = imp.transform(dfTest[['lat']]).ravel()\n",
    "imp = preprocessing.Imputer(missing_values='NaN', strategy='mean')\n",
    "imp.fit(dfTest[['lon']])\n",
    "dfTest.lon = imp.transform(dfTest[['lon']]).ravel()\n",
    "\n",
    "imp = preprocessing.Imputer(missing_values='NaN', strategy='mean')\n",
    "imp.fit(dfTest[['surface_total_in_m2']])\n",
    "dfTest.surface_total_in_m2 = imp.transform(dfTest[['surface_total_in_m2']]).ravel()"
   ]
  },
  {
   "cell_type": "code",
   "execution_count": null,
   "metadata": {},
   "outputs": [],
   "source": [
    "dfTrain.info()"
   ]
  },
  {
   "cell_type": "code",
   "execution_count": null,
   "metadata": {},
   "outputs": [],
   "source": [
    "dfTest.info()"
   ]
  },
  {
   "cell_type": "code",
   "execution_count": null,
   "metadata": {},
   "outputs": [],
   "source": [
    "# Genero TRAIN y TARGET\n",
    "target = dfTrain.price_usd\n",
    "train = dfTrain.drop('price_usd', axis=1)\n",
    "\n",
    "testIds = dfTest.loc[:, ('id')]\n",
    "testVals = dfTest.drop('id', axis=1)"
   ]
  },
  {
   "cell_type": "code",
   "execution_count": null,
   "metadata": {},
   "outputs": [],
   "source": [
    "knn = KNeighborsRegressor(n_neighbors=30, weights='distance', \n",
    "                          algorithm='kd_tree', leaf_size=30, \n",
    "                          metric='euclidean', n_jobs=-1)\n",
    "\n",
    "knn.fit(train, target)"
   ]
  },
  {
   "cell_type": "code",
   "execution_count": null,
   "metadata": {},
   "outputs": [],
   "source": [
    "predictions = knn.predict(testVals)"
   ]
  },
  {
   "cell_type": "code",
   "execution_count": null,
   "metadata": {},
   "outputs": [],
   "source": [
    "# Escribo a archivo\n",
    "\n",
    "with open('../data/predictions/2nd_acercamiento.csv', 'w') as outfile:\n",
    "        rows = [[\"id\", \"price_usd\"]]\n",
    "\n",
    "        for idTest, prediction in zip(testIds, predictions):\n",
    "            rows.append([idTest, prediction])\n",
    "\n",
    "        out_csv = csv.writer(outfile)\n",
    "        out_csv.writerows(rows)"
   ]
  },
  {
   "cell_type": "code",
   "execution_count": null,
   "metadata": {},
   "outputs": [],
   "source": []
  }
 ],
 "metadata": {
  "kernelspec": {
   "display_name": "Python 2",
   "language": "python",
   "name": "python2"
  },
  "language_info": {
   "codemirror_mode": {
    "name": "ipython",
    "version": 2
   },
   "file_extension": ".py",
   "mimetype": "text/x-python",
   "name": "python",
   "nbconvert_exporter": "python",
   "pygments_lexer": "ipython2",
   "version": "2.7.13"
  }
 },
 "nbformat": 4,
 "nbformat_minor": 2
}
