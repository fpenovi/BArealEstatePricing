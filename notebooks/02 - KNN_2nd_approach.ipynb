{
 "cells": [
  {
   "cell_type": "code",
   "execution_count": 80,
   "metadata": {},
   "outputs": [],
   "source": [
    "import numpy as np\n",
    "import pandas as pd\n",
    "from sklearn import preprocessing\n",
    "from sklearn.neighbors import KNeighborsRegressor\n",
    "import csv"
   ]
  },
  {
   "cell_type": "markdown",
   "metadata": {},
   "source": [
    "### Primer acercamiento a Machine Learning (KNN)"
   ]
  },
  {
   "cell_type": "code",
   "execution_count": 90,
   "metadata": {},
   "outputs": [],
   "source": [
    "dfTest = pd.read_csv('../data/TRAIN_TEST_corrected/test_corrected.csv')\n",
    "dfTrain = pd.read_csv('../data/TRAIN_TEST_corrected/train_corrected.csv')\n",
    "dfExternalCoords = pd.read_csv('../data/externalData/coordenadas_barrios.csv')"
   ]
  },
  {
   "cell_type": "code",
   "execution_count": 91,
   "metadata": {},
   "outputs": [
    {
     "name": "stdout",
     "output_type": "stream",
     "text": [
      "<class 'pandas.core.frame.DataFrame'>\n",
      "RangeIndex: 14166 entries, 0 to 14165\n",
      "Data columns (total 11 columns):\n",
      "id                     14166 non-null int64\n",
      "year_created           14166 non-null int64\n",
      "month_created          14166 non-null int64\n",
      "day_created            14166 non-null int64\n",
      "property_type          14166 non-null object\n",
      "place_name             14166 non-null object\n",
      "state_name             14166 non-null object\n",
      "lat                    10487 non-null float64\n",
      "lon                    10487 non-null float64\n",
      "surface_total_in_m2    11853 non-null float64\n",
      "rooms                  7501 non-null float64\n",
      "dtypes: float64(4), int64(4), object(3)\n",
      "memory usage: 1.2+ MB\n"
     ]
    }
   ],
   "source": [
    "dfTest.info()"
   ]
  },
  {
   "cell_type": "code",
   "execution_count": 92,
   "metadata": {
    "scrolled": true
   },
   "outputs": [
    {
     "name": "stdout",
     "output_type": "stream",
     "text": [
      "<class 'pandas.core.frame.DataFrame'>\n",
      "RangeIndex: 1004797 entries, 0 to 1004796\n",
      "Data columns (total 12 columns):\n",
      "id                     1004797 non-null object\n",
      "year_created           1004797 non-null int64\n",
      "month_created          1004797 non-null int64\n",
      "day_created            1004797 non-null int64\n",
      "property_type          1004797 non-null object\n",
      "place_name             1004797 non-null object\n",
      "state_name             1004797 non-null object\n",
      "lat                    743693 non-null float64\n",
      "lon                    743682 non-null float64\n",
      "surface_total_in_m2    1004797 non-null float64\n",
      "rooms                  594683 non-null float64\n",
      "price_aprox_usd        1004797 non-null float64\n",
      "dtypes: float64(5), int64(3), object(4)\n",
      "memory usage: 92.0+ MB\n"
     ]
    }
   ],
   "source": [
    "dfTrain.info()"
   ]
  },
  {
   "cell_type": "code",
   "execution_count": 93,
   "metadata": {},
   "outputs": [
    {
     "name": "stdout",
     "output_type": "stream",
     "text": [
      "<class 'pandas.core.frame.DataFrame'>\n",
      "RangeIndex: 438 entries, 0 to 437\n",
      "Data columns (total 4 columns):\n",
      "place                        438 non-null object\n",
      "lat                          435 non-null float64\n",
      "lon                          435 non-null float64\n",
      "distance_to_obelisco_mtrs    435 non-null float64\n",
      "dtypes: float64(3), object(1)\n",
      "memory usage: 13.8+ KB\n"
     ]
    }
   ],
   "source": [
    "dfExternalCoords.info()"
   ]
  },
  {
   "cell_type": "markdown",
   "metadata": {},
   "source": [
    "## ToDo:\n",
    "+ Resolver NaN's en lat / lon con externalData.\n",
    "+ Reemplazar place_name con distancia al obelisco.\n",
    "+ Z-codes Standardization.\n",
    "+ OneHotEncode property_type y state_name.\n",
    "+ Make Submit & Comparison\n",
    "+ Cross Validation K-Folds -> Make Submit & Comparison"
   ]
  },
  {
   "cell_type": "markdown",
   "metadata": {},
   "source": [
    "___\n",
    "### Corriendo el primer KNN"
   ]
  },
  {
   "cell_type": "code",
   "execution_count": 87,
   "metadata": {},
   "outputs": [
    {
     "name": "stdout",
     "output_type": "stream",
     "text": [
      "Cantidad de barrios con menos de 100 publicaciones: 7957\n"
     ]
    }
   ],
   "source": [
    "dfUtil = dfTrain.loc[:, ('place_name', 'year_created')]\\\n",
    "                .groupby(by='place_name')\\\n",
    "                .count().reset_index()\\\n",
    "                .sort_values(by='year_created', ascending=False)\\\n",
    "                .rename(columns={'year_created':'place_ocurrences'})\n",
    "print 'Cantidad de barrios con menos de 100 publicaciones:', dfUtil.loc[dfUtil.place_ocurrences < 100, ('place_ocurrences')].sum()"
   ]
  },
  {
   "cell_type": "code",
   "execution_count": 88,
   "metadata": {},
   "outputs": [
    {
     "data": {
      "text/html": [
       "<div>\n",
       "<style scoped>\n",
       "    .dataframe tbody tr th:only-of-type {\n",
       "        vertical-align: middle;\n",
       "    }\n",
       "\n",
       "    .dataframe tbody tr th {\n",
       "        vertical-align: top;\n",
       "    }\n",
       "\n",
       "    .dataframe thead th {\n",
       "        text-align: right;\n",
       "    }\n",
       "</style>\n",
       "<table border=\"1\" class=\"dataframe\">\n",
       "  <thead>\n",
       "    <tr style=\"text-align: right;\">\n",
       "      <th></th>\n",
       "      <th>id</th>\n",
       "      <th>year_created</th>\n",
       "      <th>month_created</th>\n",
       "      <th>day_created</th>\n",
       "      <th>place_name</th>\n",
       "      <th>state_name</th>\n",
       "      <th>lat</th>\n",
       "      <th>lon</th>\n",
       "      <th>surface_total_in_m2</th>\n",
       "      <th>rooms</th>\n",
       "      <th>price_aprox_usd</th>\n",
       "      <th>PH</th>\n",
       "      <th>apartment</th>\n",
       "      <th>house</th>\n",
       "      <th>store</th>\n",
       "    </tr>\n",
       "  </thead>\n",
       "  <tbody>\n",
       "    <tr>\n",
       "      <th>0</th>\n",
       "      <td>1771e4252915a911b8eb4964cde2790d5623bd33</td>\n",
       "      <td>2013</td>\n",
       "      <td>8</td>\n",
       "      <td>28</td>\n",
       "      <td>Caseros</td>\n",
       "      <td>Bs.As. G.B.A. Zona Oeste</td>\n",
       "      <td>-34.600116</td>\n",
       "      <td>-58.565334</td>\n",
       "      <td>62.0</td>\n",
       "      <td>3.0</td>\n",
       "      <td>130650.48</td>\n",
       "      <td>0.0</td>\n",
       "      <td>1.0</td>\n",
       "      <td>0.0</td>\n",
       "      <td>0.0</td>\n",
       "    </tr>\n",
       "    <tr>\n",
       "      <th>1</th>\n",
       "      <td>d63560d1f8f797a6d412814a27ec570beafb9d90</td>\n",
       "      <td>2013</td>\n",
       "      <td>8</td>\n",
       "      <td>28</td>\n",
       "      <td>Villa Crespo</td>\n",
       "      <td>Capital Federal</td>\n",
       "      <td>-34.597274</td>\n",
       "      <td>-58.439479</td>\n",
       "      <td>44.0</td>\n",
       "      <td>2.0</td>\n",
       "      <td>78500.00</td>\n",
       "      <td>0.0</td>\n",
       "      <td>1.0</td>\n",
       "      <td>0.0</td>\n",
       "      <td>0.0</td>\n",
       "    </tr>\n",
       "    <tr>\n",
       "      <th>2</th>\n",
       "      <td>486c44c6ae60cc40aa7aac085bf20a83a3e68e0e</td>\n",
       "      <td>2013</td>\n",
       "      <td>8</td>\n",
       "      <td>28</td>\n",
       "      <td>General Rodríguez</td>\n",
       "      <td>Bs.As. G.B.A. Zona Oeste</td>\n",
       "      <td>NaN</td>\n",
       "      <td>NaN</td>\n",
       "      <td>150.0</td>\n",
       "      <td>NaN</td>\n",
       "      <td>243081.79</td>\n",
       "      <td>0.0</td>\n",
       "      <td>0.0</td>\n",
       "      <td>1.0</td>\n",
       "      <td>0.0</td>\n",
       "    </tr>\n",
       "    <tr>\n",
       "      <th>3</th>\n",
       "      <td>3310de102f192c4a03a415e3f648799caef02da7</td>\n",
       "      <td>2013</td>\n",
       "      <td>8</td>\n",
       "      <td>28</td>\n",
       "      <td>Las Cañitas</td>\n",
       "      <td>Capital Federal</td>\n",
       "      <td>-34.567401</td>\n",
       "      <td>-58.434775</td>\n",
       "      <td>250.0</td>\n",
       "      <td>4.0</td>\n",
       "      <td>710000.00</td>\n",
       "      <td>0.0</td>\n",
       "      <td>1.0</td>\n",
       "      <td>0.0</td>\n",
       "      <td>0.0</td>\n",
       "    </tr>\n",
       "    <tr>\n",
       "      <th>4</th>\n",
       "      <td>005481f73ee4472d5c42f326537cc319af2a5f40</td>\n",
       "      <td>2013</td>\n",
       "      <td>8</td>\n",
       "      <td>28</td>\n",
       "      <td>Flores</td>\n",
       "      <td>Capital Federal</td>\n",
       "      <td>-34.626409</td>\n",
       "      <td>-58.459324</td>\n",
       "      <td>40.0</td>\n",
       "      <td>1.0</td>\n",
       "      <td>110714.41</td>\n",
       "      <td>0.0</td>\n",
       "      <td>1.0</td>\n",
       "      <td>0.0</td>\n",
       "      <td>0.0</td>\n",
       "    </tr>\n",
       "  </tbody>\n",
       "</table>\n",
       "</div>"
      ],
      "text/plain": [
       "                                         id  year_created  month_created  \\\n",
       "0  1771e4252915a911b8eb4964cde2790d5623bd33          2013              8   \n",
       "1  d63560d1f8f797a6d412814a27ec570beafb9d90          2013              8   \n",
       "2  486c44c6ae60cc40aa7aac085bf20a83a3e68e0e          2013              8   \n",
       "3  3310de102f192c4a03a415e3f648799caef02da7          2013              8   \n",
       "4  005481f73ee4472d5c42f326537cc319af2a5f40          2013              8   \n",
       "\n",
       "   day_created         place_name                state_name        lat  \\\n",
       "0           28            Caseros  Bs.As. G.B.A. Zona Oeste -34.600116   \n",
       "1           28       Villa Crespo           Capital Federal -34.597274   \n",
       "2           28  General Rodríguez  Bs.As. G.B.A. Zona Oeste        NaN   \n",
       "3           28        Las Cañitas           Capital Federal -34.567401   \n",
       "4           28             Flores           Capital Federal -34.626409   \n",
       "\n",
       "         lon  surface_total_in_m2  rooms  price_aprox_usd   PH  apartment  \\\n",
       "0 -58.565334                 62.0    3.0        130650.48  0.0        1.0   \n",
       "1 -58.439479                 44.0    2.0         78500.00  0.0        1.0   \n",
       "2        NaN                150.0    NaN        243081.79  0.0        0.0   \n",
       "3 -58.434775                250.0    4.0        710000.00  0.0        1.0   \n",
       "4 -58.459324                 40.0    1.0        110714.41  0.0        1.0   \n",
       "\n",
       "   house  store  \n",
       "0    0.0    0.0  \n",
       "1    0.0    0.0  \n",
       "2    1.0    0.0  \n",
       "3    0.0    0.0  \n",
       "4    0.0    0.0  "
      ]
     },
     "execution_count": 88,
     "metadata": {},
     "output_type": "execute_result"
    }
   ],
   "source": [
    "# Selecciono property_type\n",
    "prop_type_labelEncoder = preprocessing.LabelEncoder()\n",
    "prop_type_labelEncoder.fit(np.array(list(dfTrain.property_type.unique()), dtype='object'))\n",
    "trainPropTypeIntEncoded = prop_type_labelEncoder.transform(dfTrain.property_type)\n",
    "\n",
    "enc = preprocessing.OneHotEncoder(sparse=False)\n",
    "matrixTrainPropTypeEnc = enc.fit_transform(trainPropTypeIntEncoded.reshape(len(trainPropTypeIntEncoded), 1))\n",
    "oneHotCodeCategories = pd.DataFrame(matrixTrainPropTypeEnc, columns=prop_type_labelEncoder.classes_)\n",
    "oneHotCodeCategories.shape\n",
    "pd.concat([dfTrain.reset_index(drop=True), oneHotCodeCategories.reset_index(drop=True)], axis=1).head().drop('property_type', axis=1)"
   ]
  },
  {
   "cell_type": "code",
   "execution_count": 89,
   "metadata": {},
   "outputs": [
    {
     "data": {
      "text/plain": [
       "(1004797, 12)"
      ]
     },
     "execution_count": 89,
     "metadata": {},
     "output_type": "execute_result"
    }
   ],
   "source": [
    "dfTrain.shape"
   ]
  },
  {
   "cell_type": "code",
   "execution_count": null,
   "metadata": {},
   "outputs": [],
   "source": [
    "# Tengo que pasar property_type, place_name y state_name a datos numéricos:\n",
    "\n",
    "#le = preprocessing.LabelEncoder()\n",
    "#le.fit(np.array(list(set(list(dfTrain.property_type.unique()) + list(dfTest.property_type.unique()))), dtype='object'))\n",
    "#dfTrain.property_type = le.transform(dfTrain.property_type)\n",
    "#dfTest.property_type = le.transform(dfTest.property_type)\n",
    "\n",
    "#le = preprocessing.LabelEncoder()\n",
    "#le.fit(np.array(list(set(list(dfTrain.place_name.unique()) + list(dfTest.place_name.unique()))), dtype='object'))\n",
    "#dfTrain.place_name = le.transform(dfTrain.place_name)\n",
    "#dfTest.place_name = le.transform(dfTest.place_name)\n",
    "\n",
    "#le = preprocessing.LabelEncoder()\n",
    "#le.fit(np.array(list(set(list(dfTrain.state_name.unique()) + list(dfTest.state_name.unique()))), dtype='object'))\n",
    "#dfTrain.state_name = le.transform(dfTrain.state_name)\n",
    "#dfTest.state_name = le.transform(dfTest.state_name)"
   ]
  },
  {
   "cell_type": "code",
   "execution_count": null,
   "metadata": {},
   "outputs": [],
   "source": [
    "# Lleno los valores faltantes (NaN's) con la clase predominante en esa columna\n",
    "\n",
    "imp = preprocessing.Imputer(missing_values='NaN', strategy='most_frequent')\n",
    "imp.fit(dfTrain[['rooms']])\n",
    "dfTrain.rooms = imp.transform(dfTrain[['rooms']]).ravel()\n",
    "\n",
    "imp = preprocessing.Imputer(missing_values='NaN', strategy='mean')\n",
    "imp.fit(dfTrain[['lat']])\n",
    "dfTrain.lat = imp.transform(dfTrain[['lat']]).ravel()\n",
    "imp = preprocessing.Imputer(missing_values='NaN', strategy='mean')\n",
    "imp.fit(dfTrain[['lon']])\n",
    "dfTrain.lon = imp.transform(dfTrain[['lon']]).ravel()\n",
    "\n",
    "imp = preprocessing.Imputer(missing_values='NaN', strategy='most_frequent')\n",
    "imp.fit(dfTest[['rooms']])\n",
    "dfTest.rooms = imp.transform(dfTest[['rooms']]).ravel()\n",
    "\n",
    "imp = preprocessing.Imputer(missing_values='NaN', strategy='mean')\n",
    "imp.fit(dfTest[['lat']])\n",
    "dfTest.lat = imp.transform(dfTest[['lat']]).ravel()\n",
    "imp = preprocessing.Imputer(missing_values='NaN', strategy='mean')\n",
    "imp.fit(dfTest[['lon']])\n",
    "dfTest.lon = imp.transform(dfTest[['lon']]).ravel()\n",
    "\n",
    "imp = preprocessing.Imputer(missing_values='NaN', strategy='mean')\n",
    "imp.fit(dfTest[['surface_total_in_m2']])\n",
    "dfTest.surface_total_in_m2 = imp.transform(dfTest[['surface_total_in_m2']]).ravel()"
   ]
  },
  {
   "cell_type": "code",
   "execution_count": null,
   "metadata": {},
   "outputs": [],
   "source": [
    "dfTrain.info()"
   ]
  },
  {
   "cell_type": "code",
   "execution_count": null,
   "metadata": {},
   "outputs": [],
   "source": [
    "dfTest.info()"
   ]
  },
  {
   "cell_type": "code",
   "execution_count": null,
   "metadata": {},
   "outputs": [],
   "source": [
    "# Genero TRAIN y TARGET\n",
    "target = dfTrain.price_usd\n",
    "train = dfTrain.drop('price_usd', axis=1)\n",
    "\n",
    "testIds = dfTest.loc[:, ('id')]\n",
    "testVals = dfTest.drop('id', axis=1)"
   ]
  },
  {
   "cell_type": "code",
   "execution_count": null,
   "metadata": {},
   "outputs": [],
   "source": [
    "knn = KNeighborsRegressor(n_neighbors=30, weights='distance', \n",
    "                          algorithm='kd_tree', leaf_size=30, \n",
    "                          metric='euclidean', n_jobs=-1)\n",
    "\n",
    "knn.fit(train, target)"
   ]
  },
  {
   "cell_type": "code",
   "execution_count": null,
   "metadata": {},
   "outputs": [],
   "source": [
    "predictions = knn.predict(testVals)"
   ]
  },
  {
   "cell_type": "code",
   "execution_count": null,
   "metadata": {},
   "outputs": [],
   "source": [
    "# Escribo a archivo\n",
    "\n",
    "with open('../data/predictions/2nd_acercamiento.csv', 'w') as outfile:\n",
    "        rows = [[\"id\", \"price_usd\"]]\n",
    "\n",
    "        for idTest, prediction in zip(testIds, predictions):\n",
    "            rows.append([idTest, prediction])\n",
    "\n",
    "        out_csv = csv.writer(outfile)\n",
    "        out_csv.writerows(rows)"
   ]
  },
  {
   "cell_type": "code",
   "execution_count": null,
   "metadata": {},
   "outputs": [],
   "source": []
  }
 ],
 "metadata": {
  "kernelspec": {
   "display_name": "Python 2",
   "language": "python",
   "name": "python2"
  },
  "language_info": {
   "codemirror_mode": {
    "name": "ipython",
    "version": 2
   },
   "file_extension": ".py",
   "mimetype": "text/x-python",
   "name": "python",
   "nbconvert_exporter": "python",
   "pygments_lexer": "ipython2",
   "version": "2.7.12"
  }
 },
 "nbformat": 4,
 "nbformat_minor": 2
}
