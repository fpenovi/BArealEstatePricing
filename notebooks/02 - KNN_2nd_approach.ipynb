{
 "cells": [
  {
   "cell_type": "code",
   "execution_count": 1,
   "metadata": {},
   "outputs": [],
   "source": [
    "import numpy as np\n",
    "import pandas as pd\n",
    "from sklearn import preprocessing\n",
    "from sklearn.neighbors import KNeighborsRegressor\n",
    "import geopy.distance"
   ]
  },
  {
   "cell_type": "markdown",
   "metadata": {},
   "source": [
    "### Primer acercamiento a Machine Learning (KNN)"
   ]
  },
  {
   "cell_type": "code",
   "execution_count": 2,
   "metadata": {},
   "outputs": [],
   "source": [
    "dfTest = pd.read_csv('../data/TRAIN_TEST_corrected/test_corrected.csv')\n",
    "dfTrain = pd.read_csv('../data/TRAIN_TEST_corrected/train_corrected.csv')\n",
    "dfExternalCoords = pd.read_csv('../data/externalData/coordenadas_barrios.csv')"
   ]
  },
  {
   "cell_type": "code",
   "execution_count": 3,
   "metadata": {},
   "outputs": [
    {
     "name": "stdout",
     "output_type": "stream",
     "text": [
      "<class 'pandas.core.frame.DataFrame'>\n",
      "RangeIndex: 14166 entries, 0 to 14165\n",
      "Data columns (total 11 columns):\n",
      "id                     14166 non-null int64\n",
      "year_created           14166 non-null int64\n",
      "month_created          14166 non-null int64\n",
      "day_created            14166 non-null int64\n",
      "property_type          14166 non-null object\n",
      "place_name             14166 non-null object\n",
      "state_name             14166 non-null object\n",
      "lat                    10487 non-null float64\n",
      "lon                    10487 non-null float64\n",
      "surface_total_in_m2    11853 non-null float64\n",
      "rooms                  7501 non-null float64\n",
      "dtypes: float64(4), int64(4), object(3)\n",
      "memory usage: 1.2+ MB\n"
     ]
    }
   ],
   "source": [
    "dfTest.info()"
   ]
  },
  {
   "cell_type": "code",
   "execution_count": 4,
   "metadata": {
    "scrolled": true
   },
   "outputs": [
    {
     "name": "stdout",
     "output_type": "stream",
     "text": [
      "<class 'pandas.core.frame.DataFrame'>\n",
      "RangeIndex: 1004797 entries, 0 to 1004796\n",
      "Data columns (total 12 columns):\n",
      "id                     1004797 non-null object\n",
      "year_created           1004797 non-null int64\n",
      "month_created          1004797 non-null int64\n",
      "day_created            1004797 non-null int64\n",
      "property_type          1004797 non-null object\n",
      "place_name             1004797 non-null object\n",
      "state_name             1004797 non-null object\n",
      "lat                    743693 non-null float64\n",
      "lon                    743682 non-null float64\n",
      "surface_total_in_m2    1004797 non-null float64\n",
      "rooms                  594683 non-null float64\n",
      "price_aprox_usd        1004797 non-null float64\n",
      "dtypes: float64(5), int64(3), object(4)\n",
      "memory usage: 92.0+ MB\n"
     ]
    }
   ],
   "source": [
    "dfTrain.info()"
   ]
  },
  {
   "cell_type": "code",
   "execution_count": 5,
   "metadata": {},
   "outputs": [
    {
     "name": "stdout",
     "output_type": "stream",
     "text": [
      "<class 'pandas.core.frame.DataFrame'>\n",
      "RangeIndex: 438 entries, 0 to 437\n",
      "Data columns (total 4 columns):\n",
      "place                        438 non-null object\n",
      "lat                          435 non-null float64\n",
      "lon                          435 non-null float64\n",
      "distance_to_obelisco_mtrs    435 non-null float64\n",
      "dtypes: float64(3), object(1)\n",
      "memory usage: 13.8+ KB\n"
     ]
    }
   ],
   "source": [
    "dfExternalCoords.info()"
   ]
  },
  {
   "cell_type": "code",
   "execution_count": 6,
   "metadata": {},
   "outputs": [
    {
     "data": {
      "text/html": [
       "<div>\n",
       "<style scoped>\n",
       "    .dataframe tbody tr th:only-of-type {\n",
       "        vertical-align: middle;\n",
       "    }\n",
       "\n",
       "    .dataframe tbody tr th {\n",
       "        vertical-align: top;\n",
       "    }\n",
       "\n",
       "    .dataframe thead th {\n",
       "        text-align: right;\n",
       "    }\n",
       "</style>\n",
       "<table border=\"1\" class=\"dataframe\">\n",
       "  <thead>\n",
       "    <tr style=\"text-align: right;\">\n",
       "      <th></th>\n",
       "      <th>place</th>\n",
       "      <th>lat</th>\n",
       "      <th>lon</th>\n",
       "      <th>distance_to_obelisco_mtrs</th>\n",
       "    </tr>\n",
       "  </thead>\n",
       "  <tbody>\n",
       "    <tr>\n",
       "      <th>0</th>\n",
       "      <td>Country Club Las lajas</td>\n",
       "      <td>-34.590190</td>\n",
       "      <td>-58.933716</td>\n",
       "      <td>50672.525719</td>\n",
       "    </tr>\n",
       "    <tr>\n",
       "      <th>1</th>\n",
       "      <td>Barrio Cerrado El Lucero</td>\n",
       "      <td>-34.422229</td>\n",
       "      <td>-58.763899</td>\n",
       "      <td>40471.776026</td>\n",
       "    </tr>\n",
       "    <tr>\n",
       "      <th>2</th>\n",
       "      <td>Caballito</td>\n",
       "      <td>-34.620928</td>\n",
       "      <td>-58.445874</td>\n",
       "      <td>6198.266937</td>\n",
       "    </tr>\n",
       "    <tr>\n",
       "      <th>3</th>\n",
       "      <td>Gregorio de Laferrere</td>\n",
       "      <td>-34.749748</td>\n",
       "      <td>-58.584591</td>\n",
       "      <td>24668.602907</td>\n",
       "    </tr>\n",
       "    <tr>\n",
       "      <th>4</th>\n",
       "      <td>Acassuso</td>\n",
       "      <td>-34.477361</td>\n",
       "      <td>-58.499270</td>\n",
       "      <td>17699.585005</td>\n",
       "    </tr>\n",
       "  </tbody>\n",
       "</table>\n",
       "</div>"
      ],
      "text/plain": [
       "                      place        lat        lon  distance_to_obelisco_mtrs\n",
       "0    Country Club Las lajas -34.590190 -58.933716               50672.525719\n",
       "1  Barrio Cerrado El Lucero -34.422229 -58.763899               40471.776026\n",
       "2                 Caballito -34.620928 -58.445874                6198.266937\n",
       "3     Gregorio de Laferrere -34.749748 -58.584591               24668.602907\n",
       "4                  Acassuso -34.477361 -58.499270               17699.585005"
      ]
     },
     "execution_count": 6,
     "metadata": {},
     "output_type": "execute_result"
    }
   ],
   "source": [
    "# Filtro los 3 registros de los cuales no tengo informacion de location\n",
    "dfExternalCoords = dfExternalCoords.loc[pd.notnull(dfExternalCoords.lat)]\n",
    "dfExternalCoords.head()"
   ]
  },
  {
   "cell_type": "markdown",
   "metadata": {},
   "source": [
    "## ToDo:\n",
    "+ Resolver NaN's en lat / lon con externalData.\n",
    "+ Reemplazar place_name con distancia al obelisco.\n",
    "+ Z-codes Standardization.\n",
    "+ OneHotEncode property_type y state_name.\n",
    "+ Make Submit & Comparison\n",
    "+ Cross Validation K-Folds -> Make Submit & Comparison"
   ]
  },
  {
   "cell_type": "code",
   "execution_count": 7,
   "metadata": {},
   "outputs": [
    {
     "data": {
      "text/html": [
       "<div>\n",
       "<style scoped>\n",
       "    .dataframe tbody tr th:only-of-type {\n",
       "        vertical-align: middle;\n",
       "    }\n",
       "\n",
       "    .dataframe tbody tr th {\n",
       "        vertical-align: top;\n",
       "    }\n",
       "\n",
       "    .dataframe thead th {\n",
       "        text-align: right;\n",
       "    }\n",
       "</style>\n",
       "<table border=\"1\" class=\"dataframe\">\n",
       "  <thead>\n",
       "    <tr style=\"text-align: right;\">\n",
       "      <th></th>\n",
       "      <th>id</th>\n",
       "      <th>year_created</th>\n",
       "      <th>month_created</th>\n",
       "      <th>day_created</th>\n",
       "      <th>property_type</th>\n",
       "      <th>place_name</th>\n",
       "      <th>state_name</th>\n",
       "      <th>lat</th>\n",
       "      <th>lon</th>\n",
       "      <th>surface_total_in_m2</th>\n",
       "      <th>rooms</th>\n",
       "      <th>price_aprox_usd</th>\n",
       "    </tr>\n",
       "  </thead>\n",
       "  <tbody>\n",
       "    <tr>\n",
       "      <th>0</th>\n",
       "      <td>1771e4252915a911b8eb4964cde2790d5623bd33</td>\n",
       "      <td>2013</td>\n",
       "      <td>8</td>\n",
       "      <td>28</td>\n",
       "      <td>apartment</td>\n",
       "      <td>Caseros</td>\n",
       "      <td>Bs.As. G.B.A. Zona Oeste</td>\n",
       "      <td>-34.600116</td>\n",
       "      <td>-58.565334</td>\n",
       "      <td>62.0</td>\n",
       "      <td>3.0</td>\n",
       "      <td>130650.48</td>\n",
       "    </tr>\n",
       "    <tr>\n",
       "      <th>1</th>\n",
       "      <td>d63560d1f8f797a6d412814a27ec570beafb9d90</td>\n",
       "      <td>2013</td>\n",
       "      <td>8</td>\n",
       "      <td>28</td>\n",
       "      <td>apartment</td>\n",
       "      <td>Villa Crespo</td>\n",
       "      <td>Capital Federal</td>\n",
       "      <td>-34.597274</td>\n",
       "      <td>-58.439479</td>\n",
       "      <td>44.0</td>\n",
       "      <td>2.0</td>\n",
       "      <td>78500.00</td>\n",
       "    </tr>\n",
       "  </tbody>\n",
       "</table>\n",
       "</div>"
      ],
      "text/plain": [
       "                                         id  year_created  month_created  \\\n",
       "0  1771e4252915a911b8eb4964cde2790d5623bd33          2013              8   \n",
       "1  d63560d1f8f797a6d412814a27ec570beafb9d90          2013              8   \n",
       "\n",
       "   day_created property_type    place_name                state_name  \\\n",
       "0           28     apartment       Caseros  Bs.As. G.B.A. Zona Oeste   \n",
       "1           28     apartment  Villa Crespo           Capital Federal   \n",
       "\n",
       "         lat        lon  surface_total_in_m2  rooms  price_aprox_usd  \n",
       "0 -34.600116 -58.565334                 62.0    3.0        130650.48  \n",
       "1 -34.597274 -58.439479                 44.0    2.0         78500.00  "
      ]
     },
     "execution_count": 7,
     "metadata": {},
     "output_type": "execute_result"
    }
   ],
   "source": [
    "dfTrain.head(2)"
   ]
  },
  {
   "cell_type": "code",
   "execution_count": 8,
   "metadata": {},
   "outputs": [
    {
     "data": {
      "text/html": [
       "<div>\n",
       "<style scoped>\n",
       "    .dataframe tbody tr th:only-of-type {\n",
       "        vertical-align: middle;\n",
       "    }\n",
       "\n",
       "    .dataframe tbody tr th {\n",
       "        vertical-align: top;\n",
       "    }\n",
       "\n",
       "    .dataframe thead th {\n",
       "        text-align: right;\n",
       "    }\n",
       "</style>\n",
       "<table border=\"1\" class=\"dataframe\">\n",
       "  <thead>\n",
       "    <tr style=\"text-align: right;\">\n",
       "      <th></th>\n",
       "      <th>id</th>\n",
       "      <th>year_created</th>\n",
       "      <th>month_created</th>\n",
       "      <th>day_created</th>\n",
       "      <th>property_type</th>\n",
       "      <th>place_name</th>\n",
       "      <th>state_name</th>\n",
       "      <th>lat</th>\n",
       "      <th>lon</th>\n",
       "      <th>surface_total_in_m2</th>\n",
       "      <th>rooms</th>\n",
       "    </tr>\n",
       "  </thead>\n",
       "  <tbody>\n",
       "    <tr>\n",
       "      <th>0</th>\n",
       "      <td>3632</td>\n",
       "      <td>2017</td>\n",
       "      <td>8</td>\n",
       "      <td>24</td>\n",
       "      <td>apartment</td>\n",
       "      <td>Puerto Madero</td>\n",
       "      <td>Capital Federal</td>\n",
       "      <td>-34.610988</td>\n",
       "      <td>-58.363464</td>\n",
       "      <td>0.0</td>\n",
       "      <td>NaN</td>\n",
       "    </tr>\n",
       "    <tr>\n",
       "      <th>1</th>\n",
       "      <td>3633</td>\n",
       "      <td>2017</td>\n",
       "      <td>8</td>\n",
       "      <td>25</td>\n",
       "      <td>apartment</td>\n",
       "      <td>Palermo</td>\n",
       "      <td>Capital Federal</td>\n",
       "      <td>NaN</td>\n",
       "      <td>NaN</td>\n",
       "      <td>0.0</td>\n",
       "      <td>2.0</td>\n",
       "    </tr>\n",
       "  </tbody>\n",
       "</table>\n",
       "</div>"
      ],
      "text/plain": [
       "     id  year_created  month_created  day_created property_type  \\\n",
       "0  3632          2017              8           24     apartment   \n",
       "1  3633          2017              8           25     apartment   \n",
       "\n",
       "      place_name       state_name        lat        lon  surface_total_in_m2  \\\n",
       "0  Puerto Madero  Capital Federal -34.610988 -58.363464                  0.0   \n",
       "1        Palermo  Capital Federal        NaN        NaN                  0.0   \n",
       "\n",
       "   rooms  \n",
       "0    NaN  \n",
       "1    2.0  "
      ]
     },
     "execution_count": 8,
     "metadata": {},
     "output_type": "execute_result"
    }
   ],
   "source": [
    "dfTest.head(2)"
   ]
  },
  {
   "cell_type": "markdown",
   "metadata": {},
   "source": [
    "___\n",
    "### Corriendo el primer KNN"
   ]
  },
  {
   "cell_type": "code",
   "execution_count": 9,
   "metadata": {},
   "outputs": [
    {
     "name": "stdout",
     "output_type": "stream",
     "text": [
      "Cantidad de barrios con menos de 100 publicaciones: 7957\n"
     ]
    }
   ],
   "source": [
    "dfUtil = dfTrain.loc[:, ('place_name', 'year_created')]\\\n",
    "                .groupby(by='place_name')\\\n",
    "                .count().reset_index()\\\n",
    "                .sort_values(by='year_created', ascending=False)\\\n",
    "                .rename(columns={'year_created':'place_ocurrences'})\n",
    "print 'Cantidad de barrios con menos de 100 publicaciones:', dfUtil.loc[dfUtil.place_ocurrences < 100, ('place_ocurrences')].sum()"
   ]
  },
  {
   "cell_type": "code",
   "execution_count": 10,
   "metadata": {},
   "outputs": [],
   "source": [
    "# ONE-TO-K ENCODING: PROPERTY_TYPE\n",
    "prop_type_labelEncoder = preprocessing.LabelEncoder()\n",
    "prop_type_labelEncoder.fit(np.array(list(dfTrain.property_type.unique()), dtype='object'))\n",
    "\n",
    "trainPropTypeIntEncoded = prop_type_labelEncoder.transform(dfTrain.property_type)\n",
    "testPropTypeIntEncoded = prop_type_labelEncoder.transform(dfTest.property_type)\n",
    "\n",
    "enc = preprocessing.OneHotEncoder(sparse=False)\n",
    "matrixTrainPropTypeEnc = enc.fit_transform(trainPropTypeIntEncoded.reshape(len(trainPropTypeIntEncoded), 1))\n",
    "matrixTestPropTypeEnc = enc.transform(testPropTypeIntEncoded.reshape(len(testPropTypeIntEncoded), 1))\n",
    "\n",
    "oneHotCodeCategoriesTrain = pd.DataFrame(matrixTrainPropTypeEnc, columns=prop_type_labelEncoder.classes_)\n",
    "oneHotCodeCategoriesTest = pd.DataFrame(matrixTestPropTypeEnc, columns=prop_type_labelEncoder.classes_)\n",
    "\n",
    "dfTrain = pd.concat([dfTrain.reset_index(drop=True), oneHotCodeCategoriesTrain.reset_index(drop=True)], \n",
    "                     axis=1).drop('property_type', axis=1)\n",
    "\n",
    "dfTest = pd.concat([dfTest.reset_index(drop=True), oneHotCodeCategoriesTest.reset_index(drop=True)],\n",
    "                    axis=1).drop('property_type', axis=1)"
   ]
  },
  {
   "cell_type": "code",
   "execution_count": 11,
   "metadata": {
    "scrolled": true
   },
   "outputs": [
    {
     "data": {
      "text/html": [
       "<div>\n",
       "<style scoped>\n",
       "    .dataframe tbody tr th:only-of-type {\n",
       "        vertical-align: middle;\n",
       "    }\n",
       "\n",
       "    .dataframe tbody tr th {\n",
       "        vertical-align: top;\n",
       "    }\n",
       "\n",
       "    .dataframe thead th {\n",
       "        text-align: right;\n",
       "    }\n",
       "</style>\n",
       "<table border=\"1\" class=\"dataframe\">\n",
       "  <thead>\n",
       "    <tr style=\"text-align: right;\">\n",
       "      <th></th>\n",
       "      <th>id</th>\n",
       "      <th>year_created</th>\n",
       "      <th>month_created</th>\n",
       "      <th>day_created</th>\n",
       "      <th>place_name</th>\n",
       "      <th>state_name</th>\n",
       "      <th>lat</th>\n",
       "      <th>lon</th>\n",
       "      <th>surface_total_in_m2</th>\n",
       "      <th>rooms</th>\n",
       "      <th>price_aprox_usd</th>\n",
       "      <th>PH</th>\n",
       "      <th>apartment</th>\n",
       "      <th>house</th>\n",
       "      <th>store</th>\n",
       "    </tr>\n",
       "  </thead>\n",
       "  <tbody>\n",
       "    <tr>\n",
       "      <th>0</th>\n",
       "      <td>1771e4252915a911b8eb4964cde2790d5623bd33</td>\n",
       "      <td>2013</td>\n",
       "      <td>8</td>\n",
       "      <td>28</td>\n",
       "      <td>Caseros</td>\n",
       "      <td>Bs.As. G.B.A. Zona Oeste</td>\n",
       "      <td>-34.600116</td>\n",
       "      <td>-58.565334</td>\n",
       "      <td>62.0</td>\n",
       "      <td>3.0</td>\n",
       "      <td>130650.48</td>\n",
       "      <td>0.0</td>\n",
       "      <td>1.0</td>\n",
       "      <td>0.0</td>\n",
       "      <td>0.0</td>\n",
       "    </tr>\n",
       "    <tr>\n",
       "      <th>1</th>\n",
       "      <td>d63560d1f8f797a6d412814a27ec570beafb9d90</td>\n",
       "      <td>2013</td>\n",
       "      <td>8</td>\n",
       "      <td>28</td>\n",
       "      <td>Villa Crespo</td>\n",
       "      <td>Capital Federal</td>\n",
       "      <td>-34.597274</td>\n",
       "      <td>-58.439479</td>\n",
       "      <td>44.0</td>\n",
       "      <td>2.0</td>\n",
       "      <td>78500.00</td>\n",
       "      <td>0.0</td>\n",
       "      <td>1.0</td>\n",
       "      <td>0.0</td>\n",
       "      <td>0.0</td>\n",
       "    </tr>\n",
       "  </tbody>\n",
       "</table>\n",
       "</div>"
      ],
      "text/plain": [
       "                                         id  year_created  month_created  \\\n",
       "0  1771e4252915a911b8eb4964cde2790d5623bd33          2013              8   \n",
       "1  d63560d1f8f797a6d412814a27ec570beafb9d90          2013              8   \n",
       "\n",
       "   day_created    place_name                state_name        lat        lon  \\\n",
       "0           28       Caseros  Bs.As. G.B.A. Zona Oeste -34.600116 -58.565334   \n",
       "1           28  Villa Crespo           Capital Federal -34.597274 -58.439479   \n",
       "\n",
       "   surface_total_in_m2  rooms  price_aprox_usd   PH  apartment  house  store  \n",
       "0                 62.0    3.0        130650.48  0.0        1.0    0.0    0.0  \n",
       "1                 44.0    2.0         78500.00  0.0        1.0    0.0    0.0  "
      ]
     },
     "execution_count": 11,
     "metadata": {},
     "output_type": "execute_result"
    }
   ],
   "source": [
    "dfTrain.head(2)"
   ]
  },
  {
   "cell_type": "code",
   "execution_count": 12,
   "metadata": {},
   "outputs": [
    {
     "data": {
      "text/html": [
       "<div>\n",
       "<style scoped>\n",
       "    .dataframe tbody tr th:only-of-type {\n",
       "        vertical-align: middle;\n",
       "    }\n",
       "\n",
       "    .dataframe tbody tr th {\n",
       "        vertical-align: top;\n",
       "    }\n",
       "\n",
       "    .dataframe thead th {\n",
       "        text-align: right;\n",
       "    }\n",
       "</style>\n",
       "<table border=\"1\" class=\"dataframe\">\n",
       "  <thead>\n",
       "    <tr style=\"text-align: right;\">\n",
       "      <th></th>\n",
       "      <th>id</th>\n",
       "      <th>year_created</th>\n",
       "      <th>month_created</th>\n",
       "      <th>day_created</th>\n",
       "      <th>place_name</th>\n",
       "      <th>state_name</th>\n",
       "      <th>lat</th>\n",
       "      <th>lon</th>\n",
       "      <th>surface_total_in_m2</th>\n",
       "      <th>rooms</th>\n",
       "      <th>PH</th>\n",
       "      <th>apartment</th>\n",
       "      <th>house</th>\n",
       "      <th>store</th>\n",
       "    </tr>\n",
       "  </thead>\n",
       "  <tbody>\n",
       "    <tr>\n",
       "      <th>0</th>\n",
       "      <td>3632</td>\n",
       "      <td>2017</td>\n",
       "      <td>8</td>\n",
       "      <td>24</td>\n",
       "      <td>Puerto Madero</td>\n",
       "      <td>Capital Federal</td>\n",
       "      <td>-34.610988</td>\n",
       "      <td>-58.363464</td>\n",
       "      <td>0.0</td>\n",
       "      <td>NaN</td>\n",
       "      <td>0.0</td>\n",
       "      <td>1.0</td>\n",
       "      <td>0.0</td>\n",
       "      <td>0.0</td>\n",
       "    </tr>\n",
       "    <tr>\n",
       "      <th>1</th>\n",
       "      <td>3633</td>\n",
       "      <td>2017</td>\n",
       "      <td>8</td>\n",
       "      <td>25</td>\n",
       "      <td>Palermo</td>\n",
       "      <td>Capital Federal</td>\n",
       "      <td>NaN</td>\n",
       "      <td>NaN</td>\n",
       "      <td>0.0</td>\n",
       "      <td>2.0</td>\n",
       "      <td>0.0</td>\n",
       "      <td>1.0</td>\n",
       "      <td>0.0</td>\n",
       "      <td>0.0</td>\n",
       "    </tr>\n",
       "  </tbody>\n",
       "</table>\n",
       "</div>"
      ],
      "text/plain": [
       "     id  year_created  month_created  day_created     place_name  \\\n",
       "0  3632          2017              8           24  Puerto Madero   \n",
       "1  3633          2017              8           25        Palermo   \n",
       "\n",
       "        state_name        lat        lon  surface_total_in_m2  rooms   PH  \\\n",
       "0  Capital Federal -34.610988 -58.363464                  0.0    NaN  0.0   \n",
       "1  Capital Federal        NaN        NaN                  0.0    2.0  0.0   \n",
       "\n",
       "   apartment  house  store  \n",
       "0        1.0    0.0    0.0  \n",
       "1        1.0    0.0    0.0  "
      ]
     },
     "execution_count": 12,
     "metadata": {},
     "output_type": "execute_result"
    }
   ],
   "source": [
    "dfTest.head(2)"
   ]
  },
  {
   "cell_type": "markdown",
   "metadata": {},
   "source": [
    "### Reemplazo de place_name y state_name por distancia al obelisco\n",
    "> + Si tiene lat y lon la dejo y calculo su distancia al obelisco.\n",
    "> + Si no tiene lat y lon, las estraigo de los datos externos traidos de Gmaps"
   ]
  },
  {
   "cell_type": "code",
   "execution_count": 13,
   "metadata": {},
   "outputs": [],
   "source": [
    "# Agrego un entero para poder volver al orden original luego de el procesamiento\n",
    "dfTrain.loc[:, ('order')] = pd.Series(xrange(len(dfTrain)))\n",
    "dfTest.loc[:, ('order')] = pd.Series(xrange(len(dfTest)))"
   ]
  },
  {
   "cell_type": "code",
   "execution_count": 14,
   "metadata": {},
   "outputs": [],
   "source": [
    "# Calculo distancias al obelisco en donde pueda y en las otras dejo NaN :\n",
    "\n",
    "def distanceToObeliscoMeters(seriesLat, seriesLon) :\n",
    "    distance_2_obelisco = []\n",
    "    obelisco = (-34.6037389, -58.3815704)\n",
    "    \n",
    "    for lat, lon in zip(seriesLat, seriesLon) :        \n",
    "        dist_m = np.nan if (pd.isnull(lat) or pd.isnull(lon)) else geopy.distance.vincenty(obelisco, (lat, lon)).m\n",
    "        distance_2_obelisco.append(dist_m)\n",
    "        \n",
    "    return pd.Series(distance_2_obelisco)\n",
    "\n",
    "distancesObeliscoTrain = distanceToObeliscoMeters(dfTrain.lat, dfTrain.lon)\n",
    "distancesObeliscoTest = distanceToObeliscoMeters(dfTest.lat, dfTest.lon)\n",
    "dfTrain.insert(column='distance_to_obelisco_mtrs', loc=4, value=distancesObeliscoTrain)\n",
    "dfTest.insert(column='distance_to_obelisco_mtrs', loc=4, value=distancesObeliscoTest)"
   ]
  },
  {
   "cell_type": "code",
   "execution_count": 15,
   "metadata": {},
   "outputs": [],
   "source": [
    "dfUpdateTrain = dfTrain.loc[pd.isnull(dfTrain.distance_to_obelisco_mtrs)].rename(columns={'place_name':'place'})\\\n",
    "                                                                         .merge(dfExternalCoords, how='inner', on=['place'])\\\n",
    "                                                                         .drop(['lat_x', 'lon_x', 'distance_to_obelisco_mtrs_x'], axis=1)\\\n",
    "                                                                         .rename(columns={'lat_y':'lat', 'lon_y':'lon', 'distance_to_obelisco_mtrs_y':'distance_to_obelisco_mtrs'})\n",
    "            \n",
    "dfUpdateTest = dfTest.loc[pd.isnull(dfTest.distance_to_obelisco_mtrs)].rename(columns={'place_name':'place'})\\\n",
    "                                                                      .merge(dfExternalCoords, how='inner', on=['place'])\\\n",
    "                                                                      .drop(['lat_x', 'lon_x', 'distance_to_obelisco_mtrs_x'], axis=1)\\\n",
    "                                                                      .rename(columns={'lat_y':'lat', 'lon_y':'lon', 'distance_to_obelisco_mtrs_y':'distance_to_obelisco_mtrs'})"
   ]
  },
  {
   "cell_type": "code",
   "execution_count": 16,
   "metadata": {},
   "outputs": [],
   "source": [
    "dfTrain.set_index('id', drop=True, inplace=True)\n",
    "dfTest.set_index('id', drop=True, inplace=True)\n",
    "dfUpdateTrain.set_index('id', drop=True, inplace=True)\n",
    "dfUpdateTest.set_index('id', drop=True, inplace=True)\n",
    "dfTrain.update(dfUpdateTrain)\n",
    "dfTest.update(dfUpdateTest)\n",
    "\n",
    "dfTrain = dfTrain.reset_index().sort_values(by='order').drop(['place_name', 'state_name', 'order'], axis=1)\n",
    "dfTest = dfTest.reset_index().sort_values(by='order').drop(['place_name', 'state_name', 'order'], axis=1)"
   ]
  },
  {
   "cell_type": "code",
   "execution_count": 17,
   "metadata": {},
   "outputs": [
    {
     "name": "stdout",
     "output_type": "stream",
     "text": [
      "<class 'pandas.core.frame.DataFrame'>\n",
      "Int64Index: 1004797 entries, 0 to 1004796\n",
      "Data columns (total 14 columns):\n",
      "id                           1004797 non-null object\n",
      "year_created                 1004797 non-null float64\n",
      "month_created                1004797 non-null float64\n",
      "day_created                  1004797 non-null float64\n",
      "distance_to_obelisco_mtrs    1004777 non-null float64\n",
      "lat                          1004777 non-null float64\n",
      "lon                          1004777 non-null float64\n",
      "surface_total_in_m2          1004797 non-null float64\n",
      "rooms                        594683 non-null float64\n",
      "price_aprox_usd              1004797 non-null float64\n",
      "PH                           1004797 non-null float64\n",
      "apartment                    1004797 non-null float64\n",
      "house                        1004797 non-null float64\n",
      "store                        1004797 non-null float64\n",
      "dtypes: float64(13), object(1)\n",
      "memory usage: 115.0+ MB\n"
     ]
    }
   ],
   "source": [
    "dfTrain.info()"
   ]
  },
  {
   "cell_type": "code",
   "execution_count": 18,
   "metadata": {},
   "outputs": [
    {
     "name": "stdout",
     "output_type": "stream",
     "text": [
      "<class 'pandas.core.frame.DataFrame'>\n",
      "Int64Index: 14166 entries, 0 to 14165\n",
      "Data columns (total 13 columns):\n",
      "id                           14166 non-null int64\n",
      "year_created                 14166 non-null float64\n",
      "month_created                14166 non-null float64\n",
      "day_created                  14166 non-null float64\n",
      "distance_to_obelisco_mtrs    14166 non-null float64\n",
      "lat                          14166 non-null float64\n",
      "lon                          14166 non-null float64\n",
      "surface_total_in_m2          11853 non-null float64\n",
      "rooms                        7501 non-null float64\n",
      "PH                           14166 non-null float64\n",
      "apartment                    14166 non-null float64\n",
      "house                        14166 non-null float64\n",
      "store                        14166 non-null float64\n",
      "dtypes: float64(12), int64(1)\n",
      "memory usage: 1.5 MB\n"
     ]
    }
   ],
   "source": [
    "dfTest.info()"
   ]
  },
  {
   "cell_type": "markdown",
   "metadata": {},
   "source": [
    "### Lleno los valores faltantes (NaN's) con la clase predominante en esa columna"
   ]
  },
  {
   "cell_type": "code",
   "execution_count": 19,
   "metadata": {},
   "outputs": [],
   "source": [
    "imp = preprocessing.Imputer(missing_values='NaN', strategy='most_frequent')\n",
    "imp.fit(dfTrain[['rooms']])\n",
    "dfTrain.rooms = imp.transform(dfTrain[['rooms']]).ravel()\n",
    "\n",
    "imp = preprocessing.Imputer(missing_values='NaN', strategy='most_frequent')\n",
    "imp.fit(dfTest[['rooms']])\n",
    "dfTest.rooms = imp.transform(dfTest[['rooms']]).ravel()\n",
    "\n",
    "imp = preprocessing.Imputer(missing_values='NaN', strategy='mean')\n",
    "imp.fit(dfTest[['surface_total_in_m2']])\n",
    "dfTest.surface_total_in_m2 = imp.transform(dfTest[['surface_total_in_m2']]).ravel()"
   ]
  },
  {
   "cell_type": "code",
   "execution_count": 20,
   "metadata": {},
   "outputs": [
    {
     "name": "stdout",
     "output_type": "stream",
     "text": [
      "<class 'pandas.core.frame.DataFrame'>\n",
      "Int64Index: 1004797 entries, 0 to 1004796\n",
      "Data columns (total 14 columns):\n",
      "id                           1004797 non-null object\n",
      "year_created                 1004797 non-null float64\n",
      "month_created                1004797 non-null float64\n",
      "day_created                  1004797 non-null float64\n",
      "distance_to_obelisco_mtrs    1004777 non-null float64\n",
      "lat                          1004777 non-null float64\n",
      "lon                          1004777 non-null float64\n",
      "surface_total_in_m2          1004797 non-null float64\n",
      "rooms                        1004797 non-null float64\n",
      "price_aprox_usd              1004797 non-null float64\n",
      "PH                           1004797 non-null float64\n",
      "apartment                    1004797 non-null float64\n",
      "house                        1004797 non-null float64\n",
      "store                        1004797 non-null float64\n",
      "dtypes: float64(13), object(1)\n",
      "memory usage: 115.0+ MB\n"
     ]
    }
   ],
   "source": [
    "dfTrain.info()"
   ]
  },
  {
   "cell_type": "code",
   "execution_count": 21,
   "metadata": {},
   "outputs": [
    {
     "name": "stdout",
     "output_type": "stream",
     "text": [
      "<class 'pandas.core.frame.DataFrame'>\n",
      "Int64Index: 14166 entries, 0 to 14165\n",
      "Data columns (total 13 columns):\n",
      "id                           14166 non-null int64\n",
      "year_created                 14166 non-null float64\n",
      "month_created                14166 non-null float64\n",
      "day_created                  14166 non-null float64\n",
      "distance_to_obelisco_mtrs    14166 non-null float64\n",
      "lat                          14166 non-null float64\n",
      "lon                          14166 non-null float64\n",
      "surface_total_in_m2          14166 non-null float64\n",
      "rooms                        14166 non-null float64\n",
      "PH                           14166 non-null float64\n",
      "apartment                    14166 non-null float64\n",
      "house                        14166 non-null float64\n",
      "store                        14166 non-null float64\n",
      "dtypes: float64(12), int64(1)\n",
      "memory usage: 1.5 MB\n"
     ]
    }
   ],
   "source": [
    "dfTest.info()"
   ]
  },
  {
   "cell_type": "code",
   "execution_count": 22,
   "metadata": {},
   "outputs": [
    {
     "data": {
      "text/html": [
       "<div>\n",
       "<style scoped>\n",
       "    .dataframe tbody tr th:only-of-type {\n",
       "        vertical-align: middle;\n",
       "    }\n",
       "\n",
       "    .dataframe tbody tr th {\n",
       "        vertical-align: top;\n",
       "    }\n",
       "\n",
       "    .dataframe thead th {\n",
       "        text-align: right;\n",
       "    }\n",
       "</style>\n",
       "<table border=\"1\" class=\"dataframe\">\n",
       "  <thead>\n",
       "    <tr style=\"text-align: right;\">\n",
       "      <th></th>\n",
       "      <th>id</th>\n",
       "      <th>year_created</th>\n",
       "      <th>month_created</th>\n",
       "      <th>day_created</th>\n",
       "      <th>distance_to_obelisco_mtrs</th>\n",
       "      <th>lat</th>\n",
       "      <th>lon</th>\n",
       "      <th>surface_total_in_m2</th>\n",
       "      <th>rooms</th>\n",
       "      <th>price_aprox_usd</th>\n",
       "      <th>PH</th>\n",
       "      <th>apartment</th>\n",
       "      <th>house</th>\n",
       "      <th>store</th>\n",
       "    </tr>\n",
       "  </thead>\n",
       "  <tbody>\n",
       "    <tr>\n",
       "      <th>0</th>\n",
       "      <td>1771e4252915a911b8eb4964cde2790d5623bd33</td>\n",
       "      <td>2013.0</td>\n",
       "      <td>8.0</td>\n",
       "      <td>28.0</td>\n",
       "      <td>16861.066565</td>\n",
       "      <td>-34.600116</td>\n",
       "      <td>-58.565334</td>\n",
       "      <td>62.0</td>\n",
       "      <td>3.0</td>\n",
       "      <td>130650.48</td>\n",
       "      <td>0.0</td>\n",
       "      <td>1.0</td>\n",
       "      <td>0.0</td>\n",
       "      <td>0.0</td>\n",
       "    </tr>\n",
       "    <tr>\n",
       "      <th>1</th>\n",
       "      <td>d63560d1f8f797a6d412814a27ec570beafb9d90</td>\n",
       "      <td>2013.0</td>\n",
       "      <td>8.0</td>\n",
       "      <td>28.0</td>\n",
       "      <td>5360.128545</td>\n",
       "      <td>-34.597274</td>\n",
       "      <td>-58.439479</td>\n",
       "      <td>44.0</td>\n",
       "      <td>2.0</td>\n",
       "      <td>78500.00</td>\n",
       "      <td>0.0</td>\n",
       "      <td>1.0</td>\n",
       "      <td>0.0</td>\n",
       "      <td>0.0</td>\n",
       "    </tr>\n",
       "    <tr>\n",
       "      <th>2</th>\n",
       "      <td>486c44c6ae60cc40aa7aac085bf20a83a3e68e0e</td>\n",
       "      <td>2013.0</td>\n",
       "      <td>8.0</td>\n",
       "      <td>28.0</td>\n",
       "      <td>52335.901227</td>\n",
       "      <td>-34.602089</td>\n",
       "      <td>-58.952129</td>\n",
       "      <td>150.0</td>\n",
       "      <td>2.0</td>\n",
       "      <td>243081.79</td>\n",
       "      <td>0.0</td>\n",
       "      <td>0.0</td>\n",
       "      <td>1.0</td>\n",
       "      <td>0.0</td>\n",
       "    </tr>\n",
       "    <tr>\n",
       "      <th>3</th>\n",
       "      <td>3310de102f192c4a03a415e3f648799caef02da7</td>\n",
       "      <td>2013.0</td>\n",
       "      <td>8.0</td>\n",
       "      <td>28.0</td>\n",
       "      <td>6330.619537</td>\n",
       "      <td>-34.567401</td>\n",
       "      <td>-58.434775</td>\n",
       "      <td>250.0</td>\n",
       "      <td>4.0</td>\n",
       "      <td>710000.00</td>\n",
       "      <td>0.0</td>\n",
       "      <td>1.0</td>\n",
       "      <td>0.0</td>\n",
       "      <td>0.0</td>\n",
       "    </tr>\n",
       "    <tr>\n",
       "      <th>4</th>\n",
       "      <td>005481f73ee4472d5c42f326537cc319af2a5f40</td>\n",
       "      <td>2013.0</td>\n",
       "      <td>8.0</td>\n",
       "      <td>28.0</td>\n",
       "      <td>7561.524039</td>\n",
       "      <td>-34.626409</td>\n",
       "      <td>-58.459324</td>\n",
       "      <td>40.0</td>\n",
       "      <td>1.0</td>\n",
       "      <td>110714.41</td>\n",
       "      <td>0.0</td>\n",
       "      <td>1.0</td>\n",
       "      <td>0.0</td>\n",
       "      <td>0.0</td>\n",
       "    </tr>\n",
       "  </tbody>\n",
       "</table>\n",
       "</div>"
      ],
      "text/plain": [
       "                                         id  year_created  month_created  \\\n",
       "0  1771e4252915a911b8eb4964cde2790d5623bd33        2013.0            8.0   \n",
       "1  d63560d1f8f797a6d412814a27ec570beafb9d90        2013.0            8.0   \n",
       "2  486c44c6ae60cc40aa7aac085bf20a83a3e68e0e        2013.0            8.0   \n",
       "3  3310de102f192c4a03a415e3f648799caef02da7        2013.0            8.0   \n",
       "4  005481f73ee4472d5c42f326537cc319af2a5f40        2013.0            8.0   \n",
       "\n",
       "   day_created  distance_to_obelisco_mtrs        lat        lon  \\\n",
       "0         28.0               16861.066565 -34.600116 -58.565334   \n",
       "1         28.0                5360.128545 -34.597274 -58.439479   \n",
       "2         28.0               52335.901227 -34.602089 -58.952129   \n",
       "3         28.0                6330.619537 -34.567401 -58.434775   \n",
       "4         28.0                7561.524039 -34.626409 -58.459324   \n",
       "\n",
       "   surface_total_in_m2  rooms  price_aprox_usd   PH  apartment  house  store  \n",
       "0                 62.0    3.0        130650.48  0.0        1.0    0.0    0.0  \n",
       "1                 44.0    2.0         78500.00  0.0        1.0    0.0    0.0  \n",
       "2                150.0    2.0        243081.79  0.0        0.0    1.0    0.0  \n",
       "3                250.0    4.0        710000.00  0.0        1.0    0.0    0.0  \n",
       "4                 40.0    1.0        110714.41  0.0        1.0    0.0    0.0  "
      ]
     },
     "execution_count": 22,
     "metadata": {},
     "output_type": "execute_result"
    }
   ],
   "source": [
    "dfTrain.head()"
   ]
  },
  {
   "cell_type": "code",
   "execution_count": 23,
   "metadata": {},
   "outputs": [
    {
     "data": {
      "text/html": [
       "<div>\n",
       "<style scoped>\n",
       "    .dataframe tbody tr th:only-of-type {\n",
       "        vertical-align: middle;\n",
       "    }\n",
       "\n",
       "    .dataframe tbody tr th {\n",
       "        vertical-align: top;\n",
       "    }\n",
       "\n",
       "    .dataframe thead th {\n",
       "        text-align: right;\n",
       "    }\n",
       "</style>\n",
       "<table border=\"1\" class=\"dataframe\">\n",
       "  <thead>\n",
       "    <tr style=\"text-align: right;\">\n",
       "      <th></th>\n",
       "      <th>id</th>\n",
       "      <th>year_created</th>\n",
       "      <th>month_created</th>\n",
       "      <th>day_created</th>\n",
       "      <th>distance_to_obelisco_mtrs</th>\n",
       "      <th>lat</th>\n",
       "      <th>lon</th>\n",
       "      <th>surface_total_in_m2</th>\n",
       "      <th>rooms</th>\n",
       "      <th>PH</th>\n",
       "      <th>apartment</th>\n",
       "      <th>house</th>\n",
       "      <th>store</th>\n",
       "    </tr>\n",
       "  </thead>\n",
       "  <tbody>\n",
       "    <tr>\n",
       "      <th>0</th>\n",
       "      <td>3632</td>\n",
       "      <td>2017.0</td>\n",
       "      <td>8.0</td>\n",
       "      <td>24.0</td>\n",
       "      <td>1.845233e+03</td>\n",
       "      <td>-34.610988</td>\n",
       "      <td>-58.363464</td>\n",
       "      <td>0.0</td>\n",
       "      <td>3.0</td>\n",
       "      <td>0.0</td>\n",
       "      <td>1.0</td>\n",
       "      <td>0.0</td>\n",
       "      <td>0.0</td>\n",
       "    </tr>\n",
       "    <tr>\n",
       "      <th>1</th>\n",
       "      <td>3633</td>\n",
       "      <td>2017.0</td>\n",
       "      <td>8.0</td>\n",
       "      <td>25.0</td>\n",
       "      <td>1.093342e+07</td>\n",
       "      <td>38.115688</td>\n",
       "      <td>13.361267</td>\n",
       "      <td>0.0</td>\n",
       "      <td>2.0</td>\n",
       "      <td>0.0</td>\n",
       "      <td>1.0</td>\n",
       "      <td>0.0</td>\n",
       "      <td>0.0</td>\n",
       "    </tr>\n",
       "    <tr>\n",
       "      <th>2</th>\n",
       "      <td>2263404</td>\n",
       "      <td>2017.0</td>\n",
       "      <td>8.0</td>\n",
       "      <td>1.0</td>\n",
       "      <td>3.285172e+03</td>\n",
       "      <td>-34.589363</td>\n",
       "      <td>-58.412880</td>\n",
       "      <td>53.0</td>\n",
       "      <td>3.0</td>\n",
       "      <td>0.0</td>\n",
       "      <td>1.0</td>\n",
       "      <td>0.0</td>\n",
       "      <td>0.0</td>\n",
       "    </tr>\n",
       "    <tr>\n",
       "      <th>3</th>\n",
       "      <td>2263405</td>\n",
       "      <td>2017.0</td>\n",
       "      <td>8.0</td>\n",
       "      <td>1.0</td>\n",
       "      <td>5.666115e+06</td>\n",
       "      <td>9.986682</td>\n",
       "      <td>-84.770722</td>\n",
       "      <td>39.0</td>\n",
       "      <td>3.0</td>\n",
       "      <td>0.0</td>\n",
       "      <td>1.0</td>\n",
       "      <td>0.0</td>\n",
       "      <td>0.0</td>\n",
       "    </tr>\n",
       "    <tr>\n",
       "      <th>4</th>\n",
       "      <td>2263406</td>\n",
       "      <td>2017.0</td>\n",
       "      <td>8.0</td>\n",
       "      <td>1.0</td>\n",
       "      <td>5.666115e+06</td>\n",
       "      <td>9.986682</td>\n",
       "      <td>-84.770722</td>\n",
       "      <td>51.0</td>\n",
       "      <td>3.0</td>\n",
       "      <td>0.0</td>\n",
       "      <td>1.0</td>\n",
       "      <td>0.0</td>\n",
       "      <td>0.0</td>\n",
       "    </tr>\n",
       "  </tbody>\n",
       "</table>\n",
       "</div>"
      ],
      "text/plain": [
       "        id  year_created  month_created  day_created  \\\n",
       "0     3632        2017.0            8.0         24.0   \n",
       "1     3633        2017.0            8.0         25.0   \n",
       "2  2263404        2017.0            8.0          1.0   \n",
       "3  2263405        2017.0            8.0          1.0   \n",
       "4  2263406        2017.0            8.0          1.0   \n",
       "\n",
       "   distance_to_obelisco_mtrs        lat        lon  surface_total_in_m2  \\\n",
       "0               1.845233e+03 -34.610988 -58.363464                  0.0   \n",
       "1               1.093342e+07  38.115688  13.361267                  0.0   \n",
       "2               3.285172e+03 -34.589363 -58.412880                 53.0   \n",
       "3               5.666115e+06   9.986682 -84.770722                 39.0   \n",
       "4               5.666115e+06   9.986682 -84.770722                 51.0   \n",
       "\n",
       "   rooms   PH  apartment  house  store  \n",
       "0    3.0  0.0        1.0    0.0    0.0  \n",
       "1    2.0  0.0        1.0    0.0    0.0  \n",
       "2    3.0  0.0        1.0    0.0    0.0  \n",
       "3    3.0  0.0        1.0    0.0    0.0  \n",
       "4    3.0  0.0        1.0    0.0    0.0  "
      ]
     },
     "execution_count": 23,
     "metadata": {},
     "output_type": "execute_result"
    }
   ],
   "source": [
    "dfTest.head()"
   ]
  },
  {
   "cell_type": "code",
   "execution_count": 24,
   "metadata": {},
   "outputs": [],
   "source": [
    "# Genero TRAIN y TARGET\n",
    "dfTrain = dfTrain.rename(columns={'price_aprox_usd':'price_usd'}).dropna()\n",
    "target = dfTrain.price_usd\n",
    "train = dfTrain.drop(['price_usd', 'id'], axis=1)\n",
    "\n",
    "testIds = dfTest.loc[:, ('id')]\n",
    "testVals = dfTest.drop('id', axis=1)"
   ]
  },
  {
   "cell_type": "code",
   "execution_count": 25,
   "metadata": {},
   "outputs": [
    {
     "name": "stdout",
     "output_type": "stream",
     "text": [
      "(1004777, 1004777)\n",
      "(14166, 14166)\n"
     ]
    }
   ],
   "source": [
    "print (len(target), len(train))\n",
    "print (len(testIds), len(testVals))"
   ]
  },
  {
   "cell_type": "code",
   "execution_count": 26,
   "metadata": {},
   "outputs": [
    {
     "data": {
      "text/plain": [
       "KNeighborsRegressor(algorithm='kd_tree', leaf_size=30, metric='euclidean',\n",
       "          metric_params=None, n_jobs=-1, n_neighbors=30, p=2,\n",
       "          weights='distance')"
      ]
     },
     "execution_count": 26,
     "metadata": {},
     "output_type": "execute_result"
    }
   ],
   "source": [
    "knn = KNeighborsRegressor(n_neighbors=30, weights='distance', \n",
    "                          algorithm='kd_tree', leaf_size=30, \n",
    "                          metric='euclidean', n_jobs=-1)\n",
    "\n",
    "knn.fit(train, target)"
   ]
  },
  {
   "cell_type": "code",
   "execution_count": 27,
   "metadata": {},
   "outputs": [],
   "source": [
    "predictions = knn.predict(testVals)"
   ]
  },
  {
   "cell_type": "code",
   "execution_count": 28,
   "metadata": {},
   "outputs": [
    {
     "data": {
      "text/html": [
       "<div>\n",
       "<style scoped>\n",
       "    .dataframe tbody tr th:only-of-type {\n",
       "        vertical-align: middle;\n",
       "    }\n",
       "\n",
       "    .dataframe tbody tr th {\n",
       "        vertical-align: top;\n",
       "    }\n",
       "\n",
       "    .dataframe thead th {\n",
       "        text-align: right;\n",
       "    }\n",
       "</style>\n",
       "<table border=\"1\" class=\"dataframe\">\n",
       "  <thead>\n",
       "    <tr style=\"text-align: right;\">\n",
       "      <th></th>\n",
       "      <th>id</th>\n",
       "      <th>price_usd</th>\n",
       "    </tr>\n",
       "  </thead>\n",
       "  <tbody>\n",
       "    <tr>\n",
       "      <th>0</th>\n",
       "      <td>3632</td>\n",
       "      <td>66557.967643</td>\n",
       "    </tr>\n",
       "    <tr>\n",
       "      <th>1</th>\n",
       "      <td>3633</td>\n",
       "      <td>102211.161832</td>\n",
       "    </tr>\n",
       "    <tr>\n",
       "      <th>2</th>\n",
       "      <td>2263404</td>\n",
       "      <td>125685.027454</td>\n",
       "    </tr>\n",
       "    <tr>\n",
       "      <th>3</th>\n",
       "      <td>2263405</td>\n",
       "      <td>81392.830904</td>\n",
       "    </tr>\n",
       "    <tr>\n",
       "      <th>4</th>\n",
       "      <td>2263406</td>\n",
       "      <td>110329.124334</td>\n",
       "    </tr>\n",
       "  </tbody>\n",
       "</table>\n",
       "</div>"
      ],
      "text/plain": [
       "        id      price_usd\n",
       "0     3632   66557.967643\n",
       "1     3633  102211.161832\n",
       "2  2263404  125685.027454\n",
       "3  2263405   81392.830904\n",
       "4  2263406  110329.124334"
      ]
     },
     "execution_count": 28,
     "metadata": {},
     "output_type": "execute_result"
    }
   ],
   "source": [
    "result = pd.DataFrame({'id':testIds, 'price_usd':predictions})\n",
    "result.head()"
   ]
  },
  {
   "cell_type": "code",
   "execution_count": 29,
   "metadata": {},
   "outputs": [],
   "source": [
    "result.to_csv('../data/predictions/2nd_acercamiento.csv', index=False)"
   ]
  },
  {
   "cell_type": "markdown",
   "metadata": {},
   "source": [
    "### Guardo Train y Test para el proximo aproximamiento"
   ]
  },
  {
   "cell_type": "code",
   "execution_count": 32,
   "metadata": {},
   "outputs": [
    {
     "data": {
      "text/html": [
       "<div>\n",
       "<style scoped>\n",
       "    .dataframe tbody tr th:only-of-type {\n",
       "        vertical-align: middle;\n",
       "    }\n",
       "\n",
       "    .dataframe tbody tr th {\n",
       "        vertical-align: top;\n",
       "    }\n",
       "\n",
       "    .dataframe thead th {\n",
       "        text-align: right;\n",
       "    }\n",
       "</style>\n",
       "<table border=\"1\" class=\"dataframe\">\n",
       "  <thead>\n",
       "    <tr style=\"text-align: right;\">\n",
       "      <th></th>\n",
       "      <th>id</th>\n",
       "      <th>year_created</th>\n",
       "      <th>month_created</th>\n",
       "      <th>day_created</th>\n",
       "      <th>distance_to_obelisco_mtrs</th>\n",
       "      <th>lat</th>\n",
       "      <th>lon</th>\n",
       "      <th>surface_total_in_m2</th>\n",
       "      <th>rooms</th>\n",
       "      <th>price_usd</th>\n",
       "      <th>PH</th>\n",
       "      <th>apartment</th>\n",
       "      <th>house</th>\n",
       "      <th>store</th>\n",
       "    </tr>\n",
       "  </thead>\n",
       "  <tbody>\n",
       "    <tr>\n",
       "      <th>0</th>\n",
       "      <td>1771e4252915a911b8eb4964cde2790d5623bd33</td>\n",
       "      <td>2013.0</td>\n",
       "      <td>8.0</td>\n",
       "      <td>28.0</td>\n",
       "      <td>16861.066565</td>\n",
       "      <td>-34.600116</td>\n",
       "      <td>-58.565334</td>\n",
       "      <td>62.0</td>\n",
       "      <td>3.0</td>\n",
       "      <td>130650.48</td>\n",
       "      <td>0.0</td>\n",
       "      <td>1.0</td>\n",
       "      <td>0.0</td>\n",
       "      <td>0.0</td>\n",
       "    </tr>\n",
       "  </tbody>\n",
       "</table>\n",
       "</div>"
      ],
      "text/plain": [
       "                                         id  year_created  month_created  \\\n",
       "0  1771e4252915a911b8eb4964cde2790d5623bd33        2013.0            8.0   \n",
       "\n",
       "   day_created  distance_to_obelisco_mtrs        lat        lon  \\\n",
       "0         28.0               16861.066565 -34.600116 -58.565334   \n",
       "\n",
       "   surface_total_in_m2  rooms  price_usd   PH  apartment  house  store  \n",
       "0                 62.0    3.0  130650.48  0.0        1.0    0.0    0.0  "
      ]
     },
     "execution_count": 32,
     "metadata": {},
     "output_type": "execute_result"
    }
   ],
   "source": [
    "dfTrain.head(1)"
   ]
  },
  {
   "cell_type": "code",
   "execution_count": 33,
   "metadata": {},
   "outputs": [
    {
     "data": {
      "text/html": [
       "<div>\n",
       "<style scoped>\n",
       "    .dataframe tbody tr th:only-of-type {\n",
       "        vertical-align: middle;\n",
       "    }\n",
       "\n",
       "    .dataframe tbody tr th {\n",
       "        vertical-align: top;\n",
       "    }\n",
       "\n",
       "    .dataframe thead th {\n",
       "        text-align: right;\n",
       "    }\n",
       "</style>\n",
       "<table border=\"1\" class=\"dataframe\">\n",
       "  <thead>\n",
       "    <tr style=\"text-align: right;\">\n",
       "      <th></th>\n",
       "      <th>id</th>\n",
       "      <th>year_created</th>\n",
       "      <th>month_created</th>\n",
       "      <th>day_created</th>\n",
       "      <th>distance_to_obelisco_mtrs</th>\n",
       "      <th>lat</th>\n",
       "      <th>lon</th>\n",
       "      <th>surface_total_in_m2</th>\n",
       "      <th>rooms</th>\n",
       "      <th>PH</th>\n",
       "      <th>apartment</th>\n",
       "      <th>house</th>\n",
       "      <th>store</th>\n",
       "    </tr>\n",
       "  </thead>\n",
       "  <tbody>\n",
       "    <tr>\n",
       "      <th>0</th>\n",
       "      <td>3632</td>\n",
       "      <td>2017.0</td>\n",
       "      <td>8.0</td>\n",
       "      <td>24.0</td>\n",
       "      <td>1845.232682</td>\n",
       "      <td>-34.610988</td>\n",
       "      <td>-58.363464</td>\n",
       "      <td>0.0</td>\n",
       "      <td>3.0</td>\n",
       "      <td>0.0</td>\n",
       "      <td>1.0</td>\n",
       "      <td>0.0</td>\n",
       "      <td>0.0</td>\n",
       "    </tr>\n",
       "  </tbody>\n",
       "</table>\n",
       "</div>"
      ],
      "text/plain": [
       "     id  year_created  month_created  day_created  distance_to_obelisco_mtrs  \\\n",
       "0  3632        2017.0            8.0         24.0                1845.232682   \n",
       "\n",
       "         lat        lon  surface_total_in_m2  rooms   PH  apartment  house  \\\n",
       "0 -34.610988 -58.363464                  0.0    3.0  0.0        1.0    0.0   \n",
       "\n",
       "   store  \n",
       "0    0.0  "
      ]
     },
     "execution_count": 33,
     "metadata": {},
     "output_type": "execute_result"
    }
   ],
   "source": [
    "dfTest.head(1)"
   ]
  },
  {
   "cell_type": "code",
   "execution_count": 34,
   "metadata": {},
   "outputs": [],
   "source": [
    "# EXPORTO los CSV's listos para la 3er aproximacion\n",
    "\n",
    "dfTrain.to_csv('../data/TRAIN_TEST_corrected2/train_corrected2.csv', index=False)\n",
    "dfTest.to_csv('../data/TRAIN_TEST_corrected2/test_corrected2.csv', index=False)"
   ]
  }
 ],
 "metadata": {
  "kernelspec": {
   "display_name": "Python 2",
   "language": "python",
   "name": "python2"
  },
  "language_info": {
   "codemirror_mode": {
    "name": "ipython",
    "version": 2
   },
   "file_extension": ".py",
   "mimetype": "text/x-python",
   "name": "python",
   "nbconvert_exporter": "python",
   "pygments_lexer": "ipython2",
   "version": "2.7.12"
  }
 },
 "nbformat": 4,
 "nbformat_minor": 2
}
