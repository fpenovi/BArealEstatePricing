{
 "cells": [
  {
   "cell_type": "code",
   "execution_count": 1,
   "metadata": {},
   "outputs": [],
   "source": [
    "import pandas as pd\n",
    "import numpy as np\n",
    "from sklearn.preprocessing import StandardScaler\n",
    "from sklearn.model_selection import GridSearchCV\n",
    "from sklearn.svm import SVR\n",
    "from matplotlib import pyplot as plt\n",
    "%matplotlib inline"
   ]
  },
  {
   "cell_type": "code",
   "execution_count": 2,
   "metadata": {},
   "outputs": [],
   "source": [
    "dfTrain = pd.read_csv('../data/TRAIN_TEST_corrected2/train_corrected2.csv').sample(frac=0.50)\n",
    "train = dfTrain.drop(['price_usd', 'id'], axis=1)\n",
    "target = dfTrain.price_usd"
   ]
  },
  {
   "cell_type": "code",
   "execution_count": 3,
   "metadata": {},
   "outputs": [
    {
     "data": {
      "text/html": [
       "<div>\n",
       "<style scoped>\n",
       "    .dataframe tbody tr th:only-of-type {\n",
       "        vertical-align: middle;\n",
       "    }\n",
       "\n",
       "    .dataframe tbody tr th {\n",
       "        vertical-align: top;\n",
       "    }\n",
       "\n",
       "    .dataframe thead th {\n",
       "        text-align: right;\n",
       "    }\n",
       "</style>\n",
       "<table border=\"1\" class=\"dataframe\">\n",
       "  <thead>\n",
       "    <tr style=\"text-align: right;\">\n",
       "      <th></th>\n",
       "      <th>year_created</th>\n",
       "      <th>month_created</th>\n",
       "      <th>day_created</th>\n",
       "      <th>distance_to_obelisco_mtrs</th>\n",
       "      <th>lat</th>\n",
       "      <th>lon</th>\n",
       "      <th>surface_total_in_m2</th>\n",
       "      <th>rooms</th>\n",
       "      <th>PH</th>\n",
       "      <th>apartment</th>\n",
       "      <th>house</th>\n",
       "      <th>store</th>\n",
       "    </tr>\n",
       "  </thead>\n",
       "  <tbody>\n",
       "    <tr>\n",
       "      <th>0</th>\n",
       "      <td>-1.019930</td>\n",
       "      <td>1.788930</td>\n",
       "      <td>-1.731074</td>\n",
       "      <td>-0.261775</td>\n",
       "      <td>-0.260166</td>\n",
       "      <td>0.197062</td>\n",
       "      <td>-0.350498</td>\n",
       "      <td>0.567830</td>\n",
       "      <td>-0.254156</td>\n",
       "      <td>0.852224</td>\n",
       "      <td>-0.725807</td>\n",
       "      <td>-0.123455</td>\n",
       "    </tr>\n",
       "    <tr>\n",
       "      <th>1</th>\n",
       "      <td>0.660018</td>\n",
       "      <td>-0.387472</td>\n",
       "      <td>-0.622589</td>\n",
       "      <td>-0.262169</td>\n",
       "      <td>-0.259677</td>\n",
       "      <td>0.193529</td>\n",
       "      <td>-0.456444</td>\n",
       "      <td>-1.262841</td>\n",
       "      <td>-0.254156</td>\n",
       "      <td>0.852224</td>\n",
       "      <td>-0.725807</td>\n",
       "      <td>-0.123455</td>\n",
       "    </tr>\n",
       "    <tr>\n",
       "      <th>2</th>\n",
       "      <td>0.660018</td>\n",
       "      <td>0.545272</td>\n",
       "      <td>-1.176831</td>\n",
       "      <td>-0.247970</td>\n",
       "      <td>-0.245897</td>\n",
       "      <td>0.172238</td>\n",
       "      <td>-0.376396</td>\n",
       "      <td>-0.347505</td>\n",
       "      <td>-0.254156</td>\n",
       "      <td>0.852224</td>\n",
       "      <td>-0.725807</td>\n",
       "      <td>-0.123455</td>\n",
       "    </tr>\n",
       "  </tbody>\n",
       "</table>\n",
       "</div>"
      ],
      "text/plain": [
       "   year_created  month_created  day_created  distance_to_obelisco_mtrs  \\\n",
       "0     -1.019930       1.788930    -1.731074                  -0.261775   \n",
       "1      0.660018      -0.387472    -0.622589                  -0.262169   \n",
       "2      0.660018       0.545272    -1.176831                  -0.247970   \n",
       "\n",
       "        lat       lon  surface_total_in_m2     rooms        PH  apartment  \\\n",
       "0 -0.260166  0.197062            -0.350498  0.567830 -0.254156   0.852224   \n",
       "1 -0.259677  0.193529            -0.456444 -1.262841 -0.254156   0.852224   \n",
       "2 -0.245897  0.172238            -0.376396 -0.347505 -0.254156   0.852224   \n",
       "\n",
       "      house     store  \n",
       "0 -0.725807 -0.123455  \n",
       "1 -0.725807 -0.123455  \n",
       "2 -0.725807 -0.123455  "
      ]
     },
     "execution_count": 3,
     "metadata": {},
     "output_type": "execute_result"
    }
   ],
   "source": [
    "# DATA SCALING\n",
    "\n",
    "scaler = StandardScaler().fit(train)\n",
    "train = pd.DataFrame(scaler.transform(train), columns=train.columns)\n",
    "train.head(3)"
   ]
  },
  {
   "cell_type": "code",
   "execution_count": 4,
   "metadata": {},
   "outputs": [],
   "source": [
    "# PARAMETROS PARA SVM\n",
    "param_grid = [\n",
    "                {'C': [10],\n",
    "                 'kernel': ['rbf'],\n",
    "                 'gamma': [0.2, 'auto', 0.05, 0.01] } ]\n",
    "\n",
    "# MEDIDA DE SCORE PARA CROSS-VALIDATION\n",
    "scoring = {'MSE': 'neg_mean_squared_error'}\n",
    "\n",
    "svr = SVR(max_iter=200, cache_size=3000)\n",
    "gs = GridSearchCV(svr, scoring=scoring, param_grid=param_grid, cv=10, refit='MSE', return_train_score=False)"
   ]
  },
  {
   "cell_type": "code",
   "execution_count": 5,
   "metadata": {},
   "outputs": [
    {
     "name": "stderr",
     "output_type": "stream",
     "text": [
      "/usr/local/lib/python2.7/dist-packages/sklearn/svm/base.py:218: ConvergenceWarning: Solver terminated early (max_iter=200).  Consider pre-processing your data with StandardScaler or MinMaxScaler.\n",
      "  % self.max_iter, ConvergenceWarning)\n"
     ]
    }
   ],
   "source": [
    "# COMIENZO EL GRID SEARCH\n",
    "gs.fit(train, target);"
   ]
  },
  {
   "cell_type": "code",
   "execution_count": 6,
   "metadata": {},
   "outputs": [],
   "source": [
    "results = gs.cv_results_\n",
    "dfResults = pd.DataFrame(results).loc[:, ('rank_test_MSE', 'mean_test_MSE', \n",
    "                                          'param_kernel', 'param_C', 'param_gamma')].infer_objects()"
   ]
  },
  {
   "cell_type": "code",
   "execution_count": 7,
   "metadata": {},
   "outputs": [
    {
     "data": {
      "text/html": [
       "<div>\n",
       "<style scoped>\n",
       "    .dataframe tbody tr th:only-of-type {\n",
       "        vertical-align: middle;\n",
       "    }\n",
       "\n",
       "    .dataframe tbody tr th {\n",
       "        vertical-align: top;\n",
       "    }\n",
       "\n",
       "    .dataframe thead th {\n",
       "        text-align: right;\n",
       "    }\n",
       "</style>\n",
       "<table border=\"1\" class=\"dataframe\">\n",
       "  <thead>\n",
       "    <tr style=\"text-align: right;\">\n",
       "      <th></th>\n",
       "      <th>rank_test_MSE</th>\n",
       "      <th>mean_test_MSE</th>\n",
       "      <th>param_kernel</th>\n",
       "      <th>param_C</th>\n",
       "      <th>param_gamma</th>\n",
       "    </tr>\n",
       "  </thead>\n",
       "  <tbody>\n",
       "    <tr>\n",
       "      <th>2</th>\n",
       "      <td>1</td>\n",
       "      <td>-3.793966e+12</td>\n",
       "      <td>rbf</td>\n",
       "      <td>10</td>\n",
       "      <td>0.05</td>\n",
       "    </tr>\n",
       "    <tr>\n",
       "      <th>3</th>\n",
       "      <td>2</td>\n",
       "      <td>-3.793967e+12</td>\n",
       "      <td>rbf</td>\n",
       "      <td>10</td>\n",
       "      <td>0.01</td>\n",
       "    </tr>\n",
       "    <tr>\n",
       "      <th>1</th>\n",
       "      <td>3</td>\n",
       "      <td>-3.795745e+12</td>\n",
       "      <td>rbf</td>\n",
       "      <td>10</td>\n",
       "      <td>auto</td>\n",
       "    </tr>\n",
       "    <tr>\n",
       "      <th>0</th>\n",
       "      <td>4</td>\n",
       "      <td>-3.797652e+12</td>\n",
       "      <td>rbf</td>\n",
       "      <td>10</td>\n",
       "      <td>0.2</td>\n",
       "    </tr>\n",
       "  </tbody>\n",
       "</table>\n",
       "</div>"
      ],
      "text/plain": [
       "   rank_test_MSE  mean_test_MSE param_kernel  param_C param_gamma\n",
       "2              1  -3.793966e+12          rbf       10        0.05\n",
       "3              2  -3.793967e+12          rbf       10        0.01\n",
       "1              3  -3.795745e+12          rbf       10        auto\n",
       "0              4  -3.797652e+12          rbf       10         0.2"
      ]
     },
     "execution_count": 7,
     "metadata": {},
     "output_type": "execute_result"
    }
   ],
   "source": [
    "dfResults.sort_values(by='rank_test_MSE').head(10)"
   ]
  },
  {
   "cell_type": "code",
   "execution_count": 8,
   "metadata": {},
   "outputs": [],
   "source": [
    "#combinatorias = set()\n",
    "\n",
    "#for gamma in param_grid[0]['gamma'] :\n",
    "#    for _c in param_grid[0]['C'] :\n",
    "#        tupla = (_c, gamma)\n",
    "        \n",
    "#        if tupla not in combinatorias and tupla[::-1] not in combinatorias :\n",
    "#            combinatorias.add(tupla)\n",
    "            \n",
    "#dfs = []\n",
    "\n",
    "#for opcion in combinatorias :\n",
    "#    dfs.append(dfResults.loc[dfResults.param_gamma.str.contains(opcion[0]) & dfResults.param_C.str.contains(opcion[1])])"
   ]
  },
  {
   "cell_type": "code",
   "execution_count": 9,
   "metadata": {},
   "outputs": [],
   "source": [
    "# Ploteo los resultados\n",
    "\n",
    "#ax = None\n",
    "#for df in dfs :\n",
    "#    df = df.reset_index()\n",
    "#    new_name = df.param_gamma[0] + ' | ' + df.param_C[0]\n",
    "#    df = df.rename(columns={'mean_test_MSE':new_name })\n",
    "#    ax = df.plot(ax=ax, x='param_n_neighbors', y=new_name, \n",
    "#                 figsize=(12, 12))\n",
    "\n",
    "#ax.grid()\n",
    "#ax.set_title(\"Grid Search SVR: finding best metric and k value\", fontsize=18)\n",
    "#ax.set_xlabel('K neighbors', fontsize=14)\n",
    "#ax.set_ylabel('NegMSE\\n(higher is better)', fontsize=14)\n",
    "#ax.legend(fontsize=11);"
   ]
  },
  {
   "cell_type": "code",
   "execution_count": 10,
   "metadata": {},
   "outputs": [
    {
     "data": {
      "image/png": "[encoded data removed]",
      "text/plain": [
       "<matplotlib.figure.Figure at 0x7f1396ba3b90>"
      ]
     },
     "metadata": {},
     "output_type": "display_data"
    }
   ],
   "source": [
    "ax = dfResults.plot(x='param_gamma', y='mean_test_MSE', figsize=(14, 8), lw=4)\n",
    "ax.grid()\n",
    "ax.set_title(\"Grid Search SVR: finding optimal gamma value\", fontsize=18)\n",
    "ax.set_xlabel('Gamma', fontsize=14)\n",
    "ax.set_ylabel('NegMSE\\n(higher is better)', fontsize=14)\n",
    "ax.legend(fontsize=11, loc='center right');"
   ]
  },
  {
   "cell_type": "code",
   "execution_count": 11,
   "metadata": {},
   "outputs": [
    {
     "name": "stdout",
     "output_type": "stream",
     "text": [
      "\n",
      "Mejores parametros: {'kernel': 'rbf', 'C': 10, 'gamma': 0.05}\n",
      "Tuvieron un error de: 3793965695016.7246 midiendo como MSE\n"
     ]
    }
   ],
   "source": [
    "print \"\\nMejores parametros:\", gs.best_params_\n",
    "print \"Tuvieron un error de:\", repr(-gs.best_score_), \"midiendo como MSE\""
   ]
  }
 ],
 "metadata": {
  "kernelspec": {
   "display_name": "Python 2",
   "language": "python",
   "name": "python2"
  },
  "language_info": {
   "codemirror_mode": {
    "name": "ipython",
    "version": 2
   },
   "file_extension": ".py",
   "mimetype": "text/x-python",
   "name": "python",
   "nbconvert_exporter": "python",
   "pygments_lexer": "ipython2",
   "version": "2.7.12"
  }
 },
 "nbformat": 4,
 "nbformat_minor": 2
}
