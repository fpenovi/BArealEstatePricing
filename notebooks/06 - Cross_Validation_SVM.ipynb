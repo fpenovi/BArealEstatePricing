{
 "cells": [
  {
   "cell_type": "code",
   "execution_count": 19,
   "metadata": {},
   "outputs": [],
   "source": [
    "import pandas as pd\n",
    "import numpy as np\n",
    "from sklearn.preprocessing import StandardScaler\n",
    "from sklearn.model_selection import GridSearchCV\n",
    "from sklearn.svm import SVR\n",
    "from matplotlib import pyplot as plt\n",
    "%matplotlib inline"
   ]
  },
  {
   "cell_type": "code",
   "execution_count": 20,
   "metadata": {},
   "outputs": [],
   "source": [
    "dfTrain = pd.read_csv('../data/TRAIN_TEST_corrected2/train_corrected2.csv')\n",
    "train = dfTrain.drop(['price_usd', 'id'], axis=1)\n",
    "target = dfTrain.price_usd"
   ]
  },
  {
   "cell_type": "code",
   "execution_count": 21,
   "metadata": {},
   "outputs": [
    {
     "data": {
      "text/html": [
       "<div>\n",
       "<style scoped>\n",
       "    .dataframe tbody tr th:only-of-type {\n",
       "        vertical-align: middle;\n",
       "    }\n",
       "\n",
       "    .dataframe tbody tr th {\n",
       "        vertical-align: top;\n",
       "    }\n",
       "\n",
       "    .dataframe thead th {\n",
       "        text-align: right;\n",
       "    }\n",
       "</style>\n",
       "<table border=\"1\" class=\"dataframe\">\n",
       "  <thead>\n",
       "    <tr style=\"text-align: right;\">\n",
       "      <th></th>\n",
       "      <th>year_created</th>\n",
       "      <th>month_created</th>\n",
       "      <th>day_created</th>\n",
       "      <th>distance_to_obelisco_mtrs</th>\n",
       "      <th>lat</th>\n",
       "      <th>lon</th>\n",
       "      <th>surface_total_in_m2</th>\n",
       "      <th>rooms</th>\n",
       "      <th>PH</th>\n",
       "      <th>apartment</th>\n",
       "      <th>house</th>\n",
       "      <th>store</th>\n",
       "    </tr>\n",
       "  </thead>\n",
       "  <tbody>\n",
       "    <tr>\n",
       "      <th>0</th>\n",
       "      <td>-1.01997</td>\n",
       "      <td>0.544819</td>\n",
       "      <td>1.151263</td>\n",
       "      <td>-0.254778</td>\n",
       "      <td>-0.257360</td>\n",
       "      <td>0.179151</td>\n",
       "      <td>-0.355479</td>\n",
       "      <td>0.566074</td>\n",
       "      <td>-0.253632</td>\n",
       "      <td>0.851851</td>\n",
       "      <td>-0.725942</td>\n",
       "      <td>-0.123193</td>\n",
       "    </tr>\n",
       "    <tr>\n",
       "      <th>1</th>\n",
       "      <td>-1.01997</td>\n",
       "      <td>0.544819</td>\n",
       "      <td>1.151263</td>\n",
       "      <td>-0.260130</td>\n",
       "      <td>-0.257184</td>\n",
       "      <td>0.189939</td>\n",
       "      <td>-0.397511</td>\n",
       "      <td>-0.346374</td>\n",
       "      <td>-0.253632</td>\n",
       "      <td>0.851851</td>\n",
       "      <td>-0.725942</td>\n",
       "      <td>-0.123193</td>\n",
       "    </tr>\n",
       "    <tr>\n",
       "      <th>2</th>\n",
       "      <td>-1.01997</td>\n",
       "      <td>0.544819</td>\n",
       "      <td>1.151263</td>\n",
       "      <td>-0.238270</td>\n",
       "      <td>-0.257482</td>\n",
       "      <td>0.145996</td>\n",
       "      <td>-0.149989</td>\n",
       "      <td>-0.346374</td>\n",
       "      <td>-0.253632</td>\n",
       "      <td>-1.173914</td>\n",
       "      <td>1.377521</td>\n",
       "      <td>-0.123193</td>\n",
       "    </tr>\n",
       "  </tbody>\n",
       "</table>\n",
       "</div>"
      ],
      "text/plain": [
       "   year_created  month_created  day_created  distance_to_obelisco_mtrs  \\\n",
       "0      -1.01997       0.544819     1.151263                  -0.254778   \n",
       "1      -1.01997       0.544819     1.151263                  -0.260130   \n",
       "2      -1.01997       0.544819     1.151263                  -0.238270   \n",
       "\n",
       "        lat       lon  surface_total_in_m2     rooms        PH  apartment  \\\n",
       "0 -0.257360  0.179151            -0.355479  0.566074 -0.253632   0.851851   \n",
       "1 -0.257184  0.189939            -0.397511 -0.346374 -0.253632   0.851851   \n",
       "2 -0.257482  0.145996            -0.149989 -0.346374 -0.253632  -1.173914   \n",
       "\n",
       "      house     store  \n",
       "0 -0.725942 -0.123193  \n",
       "1 -0.725942 -0.123193  \n",
       "2  1.377521 -0.123193  "
      ]
     },
     "execution_count": 21,
     "metadata": {},
     "output_type": "execute_result"
    }
   ],
   "source": [
    "# DATA SCALING\n",
    "\n",
    "scaler = StandardScaler().fit(train)\n",
    "train = pd.DataFrame(scaler.transform(train), columns=train.columns)\n",
    "train.head(3)"
   ]
  },
  {
   "cell_type": "code",
   "execution_count": 22,
   "metadata": {},
   "outputs": [],
   "source": [
    "# PARAMETROS PARA SVM\n",
    "param_grid = [\n",
    "                {'C': [140], \n",
    "                 'epsilon' : [0.0, 0.05, 0.1, 0.2, 0.25, 0.3, 0.35, 0.6, 0.7],\n",
    "                 'max_iter' : [300],\n",
    "                 'gamma' : ['auto'] }]\n",
    "\n",
    "# MEDIDA DE SCORE PARA CROSS-VALIDATION\n",
    "scoring = {'MSE': 'neg_mean_squared_error'}\n",
    "\n",
    "svr = SVR()\n",
    "gs = GridSearchCV(svr, scoring=scoring, param_grid=param_grid, cv=10, refit='MSE', return_train_score=False)"
   ]
  },
  {
   "cell_type": "code",
   "execution_count": 23,
   "metadata": {},
   "outputs": [
    {
     "name": "stderr",
     "output_type": "stream",
     "text": [
      "c:\\python27\\lib\\site-packages\\sklearn\\svm\\base.py:218: ConvergenceWarning: Solver terminated early (max_iter=300).  Consider pre-processing your data with StandardScaler or MinMaxScaler.\n",
      "  % self.max_iter, ConvergenceWarning)\n"
     ]
    }
   ],
   "source": [
    "# COMIENZO EL GRID SEARCH\n",
    "gs.fit(train, target);"
   ]
  },
  {
   "cell_type": "code",
   "execution_count": 24,
   "metadata": {},
   "outputs": [],
   "source": [
    "results = gs.cv_results_\n",
    "dfResults = pd.DataFrame(results).loc[:, ('rank_test_MSE', 'mean_test_MSE', \n",
    "                                          'param_C', 'param_epsilon')].infer_objects()"
   ]
  },
  {
   "cell_type": "code",
   "execution_count": 25,
   "metadata": {},
   "outputs": [
    {
     "data": {
      "text/html": [
       "<div>\n",
       "<style scoped>\n",
       "    .dataframe tbody tr th:only-of-type {\n",
       "        vertical-align: middle;\n",
       "    }\n",
       "\n",
       "    .dataframe tbody tr th {\n",
       "        vertical-align: top;\n",
       "    }\n",
       "\n",
       "    .dataframe thead th {\n",
       "        text-align: right;\n",
       "    }\n",
       "</style>\n",
       "<table border=\"1\" class=\"dataframe\">\n",
       "  <thead>\n",
       "    <tr style=\"text-align: right;\">\n",
       "      <th></th>\n",
       "      <th>rank_test_MSE</th>\n",
       "      <th>mean_test_MSE</th>\n",
       "      <th>param_C</th>\n",
       "      <th>param_epsilon</th>\n",
       "    </tr>\n",
       "  </thead>\n",
       "  <tbody>\n",
       "    <tr>\n",
       "      <th>0</th>\n",
       "      <td>1</td>\n",
       "      <td>-5.986817e+12</td>\n",
       "      <td>140</td>\n",
       "      <td>0.00</td>\n",
       "    </tr>\n",
       "    <tr>\n",
       "      <th>1</th>\n",
       "      <td>2</td>\n",
       "      <td>-5.986817e+12</td>\n",
       "      <td>140</td>\n",
       "      <td>0.05</td>\n",
       "    </tr>\n",
       "    <tr>\n",
       "      <th>2</th>\n",
       "      <td>3</td>\n",
       "      <td>-5.986817e+12</td>\n",
       "      <td>140</td>\n",
       "      <td>0.10</td>\n",
       "    </tr>\n",
       "    <tr>\n",
       "      <th>3</th>\n",
       "      <td>4</td>\n",
       "      <td>-5.986817e+12</td>\n",
       "      <td>140</td>\n",
       "      <td>0.20</td>\n",
       "    </tr>\n",
       "    <tr>\n",
       "      <th>4</th>\n",
       "      <td>5</td>\n",
       "      <td>-5.986817e+12</td>\n",
       "      <td>140</td>\n",
       "      <td>0.25</td>\n",
       "    </tr>\n",
       "    <tr>\n",
       "      <th>5</th>\n",
       "      <td>6</td>\n",
       "      <td>-5.986817e+12</td>\n",
       "      <td>140</td>\n",
       "      <td>0.30</td>\n",
       "    </tr>\n",
       "    <tr>\n",
       "      <th>6</th>\n",
       "      <td>7</td>\n",
       "      <td>-5.986817e+12</td>\n",
       "      <td>140</td>\n",
       "      <td>0.35</td>\n",
       "    </tr>\n",
       "    <tr>\n",
       "      <th>7</th>\n",
       "      <td>8</td>\n",
       "      <td>-5.986817e+12</td>\n",
       "      <td>140</td>\n",
       "      <td>0.60</td>\n",
       "    </tr>\n",
       "    <tr>\n",
       "      <th>8</th>\n",
       "      <td>9</td>\n",
       "      <td>-5.986817e+12</td>\n",
       "      <td>140</td>\n",
       "      <td>0.70</td>\n",
       "    </tr>\n",
       "  </tbody>\n",
       "</table>\n",
       "</div>"
      ],
      "text/plain": [
       "   rank_test_MSE  mean_test_MSE  param_C  param_epsilon\n",
       "0              1  -5.986817e+12      140           0.00\n",
       "1              2  -5.986817e+12      140           0.05\n",
       "2              3  -5.986817e+12      140           0.10\n",
       "3              4  -5.986817e+12      140           0.20\n",
       "4              5  -5.986817e+12      140           0.25\n",
       "5              6  -5.986817e+12      140           0.30\n",
       "6              7  -5.986817e+12      140           0.35\n",
       "7              8  -5.986817e+12      140           0.60\n",
       "8              9  -5.986817e+12      140           0.70"
      ]
     },
     "execution_count": 25,
     "metadata": {},
     "output_type": "execute_result"
    }
   ],
   "source": [
    "dfResults.sort_values(by='rank_test_MSE').head(10)"
   ]
  },
  {
   "cell_type": "code",
   "execution_count": 26,
   "metadata": {},
   "outputs": [],
   "source": [
    "#combinatorias = set()\n",
    "\n",
    "#for gamma in param_grid[0]['gamma'] :\n",
    "#    for _c in param_grid[0]['C'] :\n",
    "#        tupla = (_c, gamma)\n",
    "        \n",
    "#        if tupla not in combinatorias and tupla[::-1] not in combinatorias :\n",
    "#            combinatorias.add(tupla)\n",
    "            \n",
    "#dfs = []\n",
    "\n",
    "#for opcion in combinatorias :\n",
    "#    dfs.append(dfResults.loc[dfResults.param_gamma.str.contains(opcion[0]) & dfResults.param_C.str.contains(opcion[1])])"
   ]
  },
  {
   "cell_type": "code",
   "execution_count": 27,
   "metadata": {},
   "outputs": [],
   "source": [
    "# Ploteo los resultados\n",
    "\n",
    "#ax = None\n",
    "#for df in dfs :\n",
    "#    df = df.reset_index()\n",
    "#    new_name = df.param_gamma[0] + ' | ' + df.param_C[0]\n",
    "#    df = df.rename(columns={'mean_test_MSE':new_name })\n",
    "#    ax = df.plot(ax=ax, x='param_n_neighbors', y=new_name, \n",
    "#                 figsize=(12, 12))\n",
    "\n",
    "#ax.grid()\n",
    "#ax.set_title(\"Grid Search SVR: finding best metric and k value\", fontsize=18)\n",
    "#ax.set_xlabel('K neighbors', fontsize=14)\n",
    "#ax.set_ylabel('NegMSE\\n(higher is better)', fontsize=14)\n",
    "#ax.legend(fontsize=11);"
   ]
  },
  {
   "cell_type": "code",
   "execution_count": 28,
   "metadata": {},
   "outputs": [
    {
     "data": {
      "text/plain": [
       "<matplotlib.text.Text at 0x262d8ba8>"
      ]
     },
     "execution_count": 28,
     "metadata": {},
     "output_type": "execute_result"
    },
    {
     "data": {
      "image/png": "[encoded data removed]",
      "text/plain": [
       "<matplotlib.figure.Figure at 0x51492cf8>"
      ]
     },
     "metadata": {},
     "output_type": "display_data"
    }
   ],
   "source": [
    "ax = dfResults.plot(x='param_epsilon', y='mean_test_MSE', \n",
    "                    figsize=(14, 8), lw=4, \n",
    "                    legend=False, color='orange')\n",
    "ax.grid()\n",
    "ax.set_title(\"Grid Search SVR: finding optimal Epsilon value\", fontsize=18)\n",
    "ax.set_xlabel('Epsilon', fontsize=14)\n",
    "ax.set_ylabel('NegMSE\\n(higher is better)', fontsize=14)"
   ]
  },
  {
   "cell_type": "code",
   "execution_count": 29,
   "metadata": {},
   "outputs": [
    {
     "name": "stdout",
     "output_type": "stream",
     "text": [
      "\n",
      "Mejores parametros: {'epsilon': 0.0, 'C': 140, 'max_iter': 300, 'gamma': 'auto'}\n",
      "Tuvieron un error de: 5986816804292.915 midiendo como MSE\n"
     ]
    }
   ],
   "source": [
    "print \"\\nMejores parametros:\", gs.best_params_\n",
    "print \"Tuvieron un error de:\", repr(-gs.best_score_), \"midiendo como MSE\""
   ]
  }
 ],
 "metadata": {
  "kernelspec": {
   "display_name": "Python 2",
   "language": "python",
   "name": "python2"
  },
  "language_info": {
   "codemirror_mode": {
    "name": "ipython",
    "version": 2
   },
   "file_extension": ".py",
   "mimetype": "text/x-python",
   "name": "python",
   "nbconvert_exporter": "python",
   "pygments_lexer": "ipython2",
   "version": "2.7.13"
  }
 },
 "nbformat": 4,
 "nbformat_minor": 2
}
