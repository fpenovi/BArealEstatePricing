{
 "cells": [
  {
   "cell_type": "code",
   "execution_count": 1,
   "metadata": {},
   "outputs": [],
   "source": [
    "import pandas as pd\n",
    "import numpy as np\n",
    "from sklearn.preprocessing import MinMaxScaler\n",
    "from sklearn.preprocessing import Normalizer\n",
    "from sklearn.preprocessing import StandardScaler\n",
    "from sklearn.model_selection import GridSearchCV\n",
    "from sklearn.svm import SVR\n",
    "from matplotlib import pyplot as plt\n",
    "%matplotlib inline"
   ]
  },
  {
   "cell_type": "code",
   "execution_count": 2,
   "metadata": {},
   "outputs": [],
   "source": [
    "dfTrain = pd.read_csv('../data/TRAIN_TEST_corrected2/train_corrected2.csv').sample(frac=0.10)\n",
    "train = dfTrain.drop(['price_usd', 'id'], axis=1)\n",
    "target = dfTrain.price_usd"
   ]
  },
  {
   "cell_type": "code",
   "execution_count": 3,
   "metadata": {},
   "outputs": [
    {
     "data": {
      "text/html": [
       "<div>\n",
       "<style scoped>\n",
       "    .dataframe tbody tr th:only-of-type {\n",
       "        vertical-align: middle;\n",
       "    }\n",
       "\n",
       "    .dataframe tbody tr th {\n",
       "        vertical-align: top;\n",
       "    }\n",
       "\n",
       "    .dataframe thead th {\n",
       "        text-align: right;\n",
       "    }\n",
       "</style>\n",
       "<table border=\"1\" class=\"dataframe\">\n",
       "  <thead>\n",
       "    <tr style=\"text-align: right;\">\n",
       "      <th></th>\n",
       "      <th>year_created</th>\n",
       "      <th>month_created</th>\n",
       "      <th>day_created</th>\n",
       "      <th>distance_to_obelisco_mtrs</th>\n",
       "      <th>lat</th>\n",
       "      <th>lon</th>\n",
       "      <th>surface_total_in_m2</th>\n",
       "      <th>rooms</th>\n",
       "      <th>PH</th>\n",
       "      <th>apartment</th>\n",
       "      <th>house</th>\n",
       "      <th>store</th>\n",
       "    </tr>\n",
       "  </thead>\n",
       "  <tbody>\n",
       "    <tr>\n",
       "      <th>0</th>\n",
       "      <td>-1.018923</td>\n",
       "      <td>1.163549</td>\n",
       "      <td>-1.507936</td>\n",
       "      <td>-0.259258</td>\n",
       "      <td>-0.258231</td>\n",
       "      <td>0.189782</td>\n",
       "      <td>-0.340705</td>\n",
       "      <td>-1.254500</td>\n",
       "      <td>-0.255273</td>\n",
       "      <td>0.853473</td>\n",
       "      <td>-0.726538</td>\n",
       "      <td>-0.122437</td>\n",
       "    </tr>\n",
       "    <tr>\n",
       "      <th>1</th>\n",
       "      <td>-1.018923</td>\n",
       "      <td>0.230979</td>\n",
       "      <td>0.487775</td>\n",
       "      <td>-0.261778</td>\n",
       "      <td>-0.257268</td>\n",
       "      <td>0.194723</td>\n",
       "      <td>-0.404027</td>\n",
       "      <td>-0.344144</td>\n",
       "      <td>-0.255273</td>\n",
       "      <td>0.853473</td>\n",
       "      <td>-0.726538</td>\n",
       "      <td>-0.122437</td>\n",
       "    </tr>\n",
       "    <tr>\n",
       "      <th>2</th>\n",
       "      <td>-0.180133</td>\n",
       "      <td>0.852692</td>\n",
       "      <td>-0.842699</td>\n",
       "      <td>-0.255465</td>\n",
       "      <td>-0.254601</td>\n",
       "      <td>0.182869</td>\n",
       "      <td>-0.331324</td>\n",
       "      <td>-0.344144</td>\n",
       "      <td>-0.255273</td>\n",
       "      <td>0.853473</td>\n",
       "      <td>-0.726538</td>\n",
       "      <td>-0.122437</td>\n",
       "    </tr>\n",
       "  </tbody>\n",
       "</table>\n",
       "</div>"
      ],
      "text/plain": [
       "   year_created  month_created  day_created  distance_to_obelisco_mtrs  \\\n",
       "0     -1.018923       1.163549    -1.507936                  -0.259258   \n",
       "1     -1.018923       0.230979     0.487775                  -0.261778   \n",
       "2     -0.180133       0.852692    -0.842699                  -0.255465   \n",
       "\n",
       "        lat       lon  surface_total_in_m2     rooms        PH  apartment  \\\n",
       "0 -0.258231  0.189782            -0.340705 -1.254500 -0.255273   0.853473   \n",
       "1 -0.257268  0.194723            -0.404027 -0.344144 -0.255273   0.853473   \n",
       "2 -0.254601  0.182869            -0.331324 -0.344144 -0.255273   0.853473   \n",
       "\n",
       "      house     store  \n",
       "0 -0.726538 -0.122437  \n",
       "1 -0.726538 -0.122437  \n",
       "2 -0.726538 -0.122437  "
      ]
     },
     "execution_count": 3,
     "metadata": {},
     "output_type": "execute_result"
    }
   ],
   "source": [
    "# DATA SCALING\n",
    "\n",
    "scaler = StandardScaler().fit(train)\n",
    "train = pd.DataFrame(scaler.transform(train), columns=train.columns)\n",
    "train.head(3)"
   ]
  },
  {
   "cell_type": "code",
   "execution_count": 4,
   "metadata": {},
   "outputs": [],
   "source": [
    "# PARAMETROS PARA SVM\n",
    "param_grid = [\n",
    "                {'C': [0.1],\n",
    "                 'kernel': ['rbf'],\n",
    "                 'gamma': ['auto'], \n",
    "                 'max_iter' : [10, 20, 40, 80, 160, 320, 640, 1280, 2560], \n",
    "                 'cache_size' : [2000] } ]\n",
    "\n",
    "# MEDIDA DE SCORE PARA CROSS-VALIDATION\n",
    "scoring = {'MSE': 'neg_mean_squared_error'}\n",
    "\n",
    "svr = SVR()\n",
    "gs = GridSearchCV(svr, scoring=scoring, param_grid=param_grid, cv=10, refit='MSE', return_train_score=False)"
   ]
  },
  {
   "cell_type": "code",
   "execution_count": 5,
   "metadata": {},
   "outputs": [
    {
     "name": "stderr",
     "output_type": "stream",
     "text": [
      "/usr/local/lib/python2.7/dist-packages/sklearn/svm/base.py:218: ConvergenceWarning: Solver terminated early (max_iter=10).  Consider pre-processing your data with StandardScaler or MinMaxScaler.\n",
      "  % self.max_iter, ConvergenceWarning)\n",
      "/usr/local/lib/python2.7/dist-packages/sklearn/svm/base.py:218: ConvergenceWarning: Solver terminated early (max_iter=20).  Consider pre-processing your data with StandardScaler or MinMaxScaler.\n",
      "  % self.max_iter, ConvergenceWarning)\n",
      "/usr/local/lib/python2.7/dist-packages/sklearn/svm/base.py:218: ConvergenceWarning: Solver terminated early (max_iter=40).  Consider pre-processing your data with StandardScaler or MinMaxScaler.\n",
      "  % self.max_iter, ConvergenceWarning)\n",
      "/usr/local/lib/python2.7/dist-packages/sklearn/svm/base.py:218: ConvergenceWarning: Solver terminated early (max_iter=80).  Consider pre-processing your data with StandardScaler or MinMaxScaler.\n",
      "  % self.max_iter, ConvergenceWarning)\n",
      "/usr/local/lib/python2.7/dist-packages/sklearn/svm/base.py:218: ConvergenceWarning: Solver terminated early (max_iter=160).  Consider pre-processing your data with StandardScaler or MinMaxScaler.\n",
      "  % self.max_iter, ConvergenceWarning)\n",
      "/usr/local/lib/python2.7/dist-packages/sklearn/svm/base.py:218: ConvergenceWarning: Solver terminated early (max_iter=320).  Consider pre-processing your data with StandardScaler or MinMaxScaler.\n",
      "  % self.max_iter, ConvergenceWarning)\n",
      "/usr/local/lib/python2.7/dist-packages/sklearn/svm/base.py:218: ConvergenceWarning: Solver terminated early (max_iter=640).  Consider pre-processing your data with StandardScaler or MinMaxScaler.\n",
      "  % self.max_iter, ConvergenceWarning)\n",
      "/usr/local/lib/python2.7/dist-packages/sklearn/svm/base.py:218: ConvergenceWarning: Solver terminated early (max_iter=1280).  Consider pre-processing your data with StandardScaler or MinMaxScaler.\n",
      "  % self.max_iter, ConvergenceWarning)\n",
      "/usr/local/lib/python2.7/dist-packages/sklearn/svm/base.py:218: ConvergenceWarning: Solver terminated early (max_iter=2560).  Consider pre-processing your data with StandardScaler or MinMaxScaler.\n",
      "  % self.max_iter, ConvergenceWarning)\n"
     ]
    }
   ],
   "source": [
    "# COMIENZO EL GRID SEARCH\n",
    "gs.fit(train, target);"
   ]
  },
  {
   "cell_type": "code",
   "execution_count": 6,
   "metadata": {},
   "outputs": [],
   "source": [
    "results = gs.cv_results_\n",
    "dfResults = pd.DataFrame(results).loc[:, ('rank_test_MSE', 'mean_test_MSE', \n",
    "                                          'param_kernel', 'param_C', 'param_gamma', 'param_max_iter')].infer_objects()"
   ]
  },
  {
   "cell_type": "code",
   "execution_count": 7,
   "metadata": {},
   "outputs": [
    {
     "data": {
      "text/html": [
       "<div>\n",
       "<style scoped>\n",
       "    .dataframe tbody tr th:only-of-type {\n",
       "        vertical-align: middle;\n",
       "    }\n",
       "\n",
       "    .dataframe tbody tr th {\n",
       "        vertical-align: top;\n",
       "    }\n",
       "\n",
       "    .dataframe thead th {\n",
       "        text-align: right;\n",
       "    }\n",
       "</style>\n",
       "<table border=\"1\" class=\"dataframe\">\n",
       "  <thead>\n",
       "    <tr style=\"text-align: right;\">\n",
       "      <th></th>\n",
       "      <th>rank_test_MSE</th>\n",
       "      <th>mean_test_MSE</th>\n",
       "      <th>param_kernel</th>\n",
       "      <th>param_C</th>\n",
       "      <th>param_gamma</th>\n",
       "      <th>param_max_iter</th>\n",
       "    </tr>\n",
       "  </thead>\n",
       "  <tbody>\n",
       "    <tr>\n",
       "      <th>8</th>\n",
       "      <td>1</td>\n",
       "      <td>-1.487281e+11</td>\n",
       "      <td>rbf</td>\n",
       "      <td>0.1</td>\n",
       "      <td>auto</td>\n",
       "      <td>2560</td>\n",
       "    </tr>\n",
       "    <tr>\n",
       "      <th>7</th>\n",
       "      <td>2</td>\n",
       "      <td>-2.428796e+11</td>\n",
       "      <td>rbf</td>\n",
       "      <td>0.1</td>\n",
       "      <td>auto</td>\n",
       "      <td>1280</td>\n",
       "    </tr>\n",
       "    <tr>\n",
       "      <th>6</th>\n",
       "      <td>3</td>\n",
       "      <td>-3.775426e+11</td>\n",
       "      <td>rbf</td>\n",
       "      <td>0.1</td>\n",
       "      <td>auto</td>\n",
       "      <td>640</td>\n",
       "    </tr>\n",
       "    <tr>\n",
       "      <th>5</th>\n",
       "      <td>4</td>\n",
       "      <td>-6.271926e+11</td>\n",
       "      <td>rbf</td>\n",
       "      <td>0.1</td>\n",
       "      <td>auto</td>\n",
       "      <td>320</td>\n",
       "    </tr>\n",
       "    <tr>\n",
       "      <th>4</th>\n",
       "      <td>5</td>\n",
       "      <td>-1.182883e+12</td>\n",
       "      <td>rbf</td>\n",
       "      <td>0.1</td>\n",
       "      <td>auto</td>\n",
       "      <td>160</td>\n",
       "    </tr>\n",
       "    <tr>\n",
       "      <th>3</th>\n",
       "      <td>6</td>\n",
       "      <td>-2.175096e+12</td>\n",
       "      <td>rbf</td>\n",
       "      <td>0.1</td>\n",
       "      <td>auto</td>\n",
       "      <td>80</td>\n",
       "    </tr>\n",
       "    <tr>\n",
       "      <th>2</th>\n",
       "      <td>7</td>\n",
       "      <td>-4.269104e+12</td>\n",
       "      <td>rbf</td>\n",
       "      <td>0.1</td>\n",
       "      <td>auto</td>\n",
       "      <td>40</td>\n",
       "    </tr>\n",
       "    <tr>\n",
       "      <th>1</th>\n",
       "      <td>8</td>\n",
       "      <td>-1.230686e+13</td>\n",
       "      <td>rbf</td>\n",
       "      <td>0.1</td>\n",
       "      <td>auto</td>\n",
       "      <td>20</td>\n",
       "    </tr>\n",
       "    <tr>\n",
       "      <th>0</th>\n",
       "      <td>9</td>\n",
       "      <td>-2.849994e+13</td>\n",
       "      <td>rbf</td>\n",
       "      <td>0.1</td>\n",
       "      <td>auto</td>\n",
       "      <td>10</td>\n",
       "    </tr>\n",
       "  </tbody>\n",
       "</table>\n",
       "</div>"
      ],
      "text/plain": [
       "   rank_test_MSE  mean_test_MSE param_kernel  param_C param_gamma  \\\n",
       "8              1  -1.487281e+11          rbf      0.1        auto   \n",
       "7              2  -2.428796e+11          rbf      0.1        auto   \n",
       "6              3  -3.775426e+11          rbf      0.1        auto   \n",
       "5              4  -6.271926e+11          rbf      0.1        auto   \n",
       "4              5  -1.182883e+12          rbf      0.1        auto   \n",
       "3              6  -2.175096e+12          rbf      0.1        auto   \n",
       "2              7  -4.269104e+12          rbf      0.1        auto   \n",
       "1              8  -1.230686e+13          rbf      0.1        auto   \n",
       "0              9  -2.849994e+13          rbf      0.1        auto   \n",
       "\n",
       "   param_max_iter  \n",
       "8            2560  \n",
       "7            1280  \n",
       "6             640  \n",
       "5             320  \n",
       "4             160  \n",
       "3              80  \n",
       "2              40  \n",
       "1              20  \n",
       "0              10  "
      ]
     },
     "execution_count": 7,
     "metadata": {},
     "output_type": "execute_result"
    }
   ],
   "source": [
    "dfResults.sort_values(by='rank_test_MSE').head(10)"
   ]
  },
  {
   "cell_type": "code",
   "execution_count": 8,
   "metadata": {},
   "outputs": [],
   "source": [
    "#combinatorias = set()\n",
    "\n",
    "#for metric in param_grid[0]['metric'] :\n",
    "#    for weight in param_grid[0]['weights'] :\n",
    "#        tupla = (metric, weight)\n",
    "        \n",
    "#        if tupla not in combinatorias and tupla[::-1] not in combinatorias :\n",
    "#            combinatorias.add(tupla)\n",
    "            \n",
    "#dfs = []\n",
    "\n",
    "#for opcion in combinatorias :\n",
    "#    dfs.append(dfResults.loc[dfResults.param_metric.str.contains(opcion[0]) & dfResults.param_weights.str.contains(opcion[1])])"
   ]
  },
  {
   "cell_type": "code",
   "execution_count": 9,
   "metadata": {},
   "outputs": [],
   "source": [
    "# Ploteo los resultados\n",
    "\n",
    "#ax = None\n",
    "#for df in dfs :\n",
    "#    df = df.reset_index()\n",
    "#    new_name = df.param_metric[0] + ' | ' + df.param_weights[0]\n",
    "#    df = df.rename(columns={'mean_test_MSE':new_name })\n",
    "#    ax = df.plot(ax=ax, x='param_n_neighbors', y=new_name, \n",
    "#                 figsize=(12, 12))\n",
    "\n",
    "#ax.grid()\n",
    "#ax.set_title(\"Grid Search SVR: finding best metric and k value\", fontsize=18)\n",
    "#ax.set_xlabel('K neighbors', fontsize=14)\n",
    "#ax.set_ylabel('NegMSE\\n(higher is better)', fontsize=14)\n",
    "#ax.legend(fontsize=11);"
   ]
  },
  {
   "cell_type": "code",
   "execution_count": 21,
   "metadata": {},
   "outputs": [
    {
     "data": {
      "image/png": "[encoded data removed]",
      "text/plain": [
       "<matplotlib.figure.Figure at 0x7fa8dc89c090>"
      ]
     },
     "metadata": {},
     "output_type": "display_data"
    }
   ],
   "source": [
    "ax = dfResults.plot(x='param_max_iter', y='mean_test_MSE', figsize=(14, 8), lw=4)\n",
    "ax.grid()\n",
    "ax.set_title(\"Grid Search SVR: finding optimal Max Iterations value\", fontsize=18)\n",
    "ax.set_xlabel('Number of Max iterations', fontsize=14)\n",
    "ax.set_ylabel('NegMSE\\n(higher is better)', fontsize=14)\n",
    "ax.legend(fontsize=11, loc='center right');"
   ]
  },
  {
   "cell_type": "code",
   "execution_count": 10,
   "metadata": {},
   "outputs": [
    {
     "name": "stdout",
     "output_type": "stream",
     "text": [
      "\n",
      "Mejores parametros: {'cache_size': 2000, 'kernel': 'rbf', 'C': 0.1, 'max_iter': 2560, 'gamma': 'auto'}\n",
      "Tuvieron un error de: 148728147122.66522 midiendo como MSE\n"
     ]
    }
   ],
   "source": [
    "print \"\\nMejores parametros:\", gs.best_params_\n",
    "print \"Tuvieron un error de:\", repr(-gs.best_score_), \"midiendo como MSE\""
   ]
  }
 ],
 "metadata": {
  "kernelspec": {
   "display_name": "Python 2",
   "language": "python",
   "name": "python2"
  },
  "language_info": {
   "codemirror_mode": {
    "name": "ipython",
    "version": 2
   },
   "file_extension": ".py",
   "mimetype": "text/x-python",
   "name": "python",
   "nbconvert_exporter": "python",
   "pygments_lexer": "ipython2",
   "version": "2.7.12"
  }
 },
 "nbformat": 4,
 "nbformat_minor": 2
}
